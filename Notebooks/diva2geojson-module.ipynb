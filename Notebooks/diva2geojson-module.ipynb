{
 "cells": [
  {
   "cell_type": "markdown",
   "metadata": {},
   "source": [
    "Some examples of how to convert the main Diva input and output files to [geoJSON](http://geojson.org/) format."
   ]
  },
  {
   "cell_type": "code",
   "execution_count": 9,
   "metadata": {
    "collapsed": true
   },
   "outputs": [],
   "source": [
    "import os\n",
    "import numpy as np\n",
    "import matplotlib.pyplot as plt\n",
    "import pydiva2d"
   ]
  },
  {
   "cell_type": "markdown",
   "metadata": {},
   "source": [
    "# Input files"
   ]
  },
  {
   "cell_type": "code",
   "execution_count": 10,
   "metadata": {
    "collapsed": true
   },
   "outputs": [],
   "source": [
    "datafile = '../data/MLD1.dat'\n",
    "contourfile = '../data/coast.cont'\n",
    "meshfile = '../data/Mesh/BlackSea/mesh.dat'\n",
    "meshtopofile = '../data/Mesh/BlackSea/meshtopo.dat'\n",
    "resultfile = \"../data/MLD_analysed.nc\"\n",
    "outputdir = \"./geoJSON/\""
   ]
  },
  {
   "cell_type": "markdown",
   "metadata": {},
   "source": [
    "We load the data and results using the `pydiva2d` module.\n",
    "\n",
    "## Contours"
   ]
  },
  {
   "cell_type": "code",
   "execution_count": 11,
   "metadata": {},
   "outputs": [
    {
     "name": "stdout",
     "output_type": "stream",
     "text": [
      "28\n"
     ]
    }
   ],
   "source": [
    "Contour = pydiva2d.Diva2DContours().read_from(contourfile)\n",
    "print(Contour.get_contours_number)\n",
    "Contour.to_geojson(os.path.join(outputdir, 'blacksea-contours.js'))"
   ]
  },
  {
   "cell_type": "markdown",
   "metadata": {},
   "source": [
    "## Data"
   ]
  },
  {
   "cell_type": "code",
   "execution_count": 12,
   "metadata": {
    "collapsed": true
   },
   "outputs": [],
   "source": [
    "Data = pydiva2d.Diva2DData()\n",
    "Data.read_from(datafile)\n",
    "Data.count_data\n",
    "Data.to_geojson(os.path.join(outputdir, 'blacksea-data.js'))"
   ]
  },
  {
   "cell_type": "markdown",
   "metadata": {},
   "source": [
    "## Mesh"
   ]
  },
  {
   "cell_type": "code",
   "execution_count": 13,
   "metadata": {},
   "outputs": [
    {
     "name": "stdout",
     "output_type": "stream",
     "text": [
      "Number of nodes: 6447\n",
      "Number of interfaces: 14059\n",
      "Number of elements: 7592\n"
     ]
    }
   ],
   "source": [
    "Mesh = pydiva2d.Diva2DMesh()\n",
    "Mesh.read_from(meshfile, meshtopofile)\n",
    "Mesh.describe()\n",
    "Mesh.to_geojson(os.path.join(outputdir, 'blacksea-mesh.js'))"
   ]
  },
  {
   "cell_type": "markdown",
   "metadata": {},
   "source": [
    "## Field"
   ]
  },
  {
   "cell_type": "code",
   "execution_count": 14,
   "metadata": {},
   "outputs": [],
   "source": [
    "Field = pydiva2d.Diva2DResults().read_from(resultfile)\n",
    "Field.to_geojson(os.path.join(outputdir, 'blacksea-results.js'))"
   ]
  },
  {
   "cell_type": "markdown",
   "metadata": {},
   "source": [
    "Now all the input files are ready and we can use [Leaflet GeoJSON](http://leafletjs.com/examples/geojson/) to represent the information on a map.    \n",
    "You can test it by opening [DivaBlackSea.html](./geoJSON/DivaBlackSea.html)"
   ]
  },
  {
   "cell_type": "code",
   "execution_count": null,
   "metadata": {
    "collapsed": true
   },
   "outputs": [],
   "source": []
  }
 ],
 "metadata": {
  "kernelspec": {
   "display_name": "Diva-python3.6",
   "language": "python",
   "name": "diva-python3.6"
  },
  "language_info": {
   "codemirror_mode": {
    "name": "ipython",
    "version": 3
   },
   "file_extension": ".py",
   "mimetype": "text/x-python",
   "name": "python",
   "nbconvert_exporter": "python",
   "pygments_lexer": "ipython3",
   "version": "3.6.0"
  }
 },
 "nbformat": 4,
 "nbformat_minor": 2
}
