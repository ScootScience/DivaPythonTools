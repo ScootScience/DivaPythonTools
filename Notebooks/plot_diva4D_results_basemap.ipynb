{
 "cells": [
  {
   "cell_type": "markdown",
   "metadata": {
    "deletable": true,
    "editable": true
   },
   "source": [
    "This notebooks provides an example of how to create plots displaying the results of the analysis.<br>\n",
    "As a 4D analysis is made up of of several 2D interpolations (loops on time and depth), we can use the tools of the `pydiva2d` module to produce the figures for the contours, meshes and results.\n",
    "\n",
    "The main difference with [plot_diva4D_results](./plot_diva4D_results.ipynb) is that here the figures are produced using the [Basemap](http://matplotlib.org/basemap/api/basemap_api.html) toolkit. "
   ]
  },
  {
   "cell_type": "code",
   "execution_count": 26,
   "metadata": {
    "collapsed": false,
    "deletable": true,
    "editable": true
   },
   "outputs": [],
   "source": [
    "import os\n",
    "import sys\n",
    "import logging\n",
    "import numpy as np\n",
    "import matplotlib.pyplot as plt\n",
    "from mpl_toolkits.basemap import Basemap\n",
    "from importlib import reload"
   ]
  },
  {
   "cell_type": "code",
   "execution_count": 27,
   "metadata": {
    "collapsed": false
   },
   "outputs": [
    {
     "data": {
      "text/plain": [
       "<module 'pydiva4d' from '../pydiva4d.py'>"
      ]
     },
     "execution_count": 27,
     "metadata": {},
     "output_type": "execute_result"
    }
   ],
   "source": [
    "reload(pydiva4d)"
   ]
  },
  {
   "cell_type": "code",
   "execution_count": 8,
   "metadata": {
    "collapsed": false,
    "deletable": true,
    "editable": true
   },
   "outputs": [],
   "source": [
    "sys.path.insert(0, \"../\")\n",
    "import pydiva4d\n",
    "import pydiva2d"
   ]
  },
  {
   "cell_type": "markdown",
   "metadata": {
    "deletable": true,
    "editable": true
   },
   "source": [
    "Set the logging levels."
   ]
  },
  {
   "cell_type": "code",
   "execution_count": 15,
   "metadata": {
    "collapsed": false,
    "deletable": true,
    "editable": true
   },
   "outputs": [],
   "source": [
    "pydiva2d.logger.setLevel(logging.DEBUG)\n",
    "pydiva4d.logger.setLevel(logging.DEBUG)"
   ]
  },
  {
   "cell_type": "markdown",
   "metadata": {
    "deletable": true,
    "editable": true
   },
   "source": [
    "Define a directory for the figures:"
   ]
  },
  {
   "cell_type": "code",
   "execution_count": 16,
   "metadata": {
    "collapsed": true,
    "deletable": true,
    "editable": true
   },
   "outputs": [],
   "source": [
    "figdir = './figures/BlackSea/'\n",
    "if not os.path.exists(figdir):\n",
    "    os.makedirs(figdir)"
   ]
  },
  {
   "cell_type": "markdown",
   "metadata": {
    "collapsed": false,
    "deletable": true,
    "editable": true
   },
   "source": [
    "Define the directory where Diva will be executed:"
   ]
  },
  {
   "cell_type": "code",
   "execution_count": 29,
   "metadata": {
    "collapsed": false,
    "deletable": true,
    "editable": true
   },
   "outputs": [],
   "source": [
    "divamaindir = '/home/ctroupin/Software/DIVA/DIVA-diva-4.7.1/'\n",
    "Diva4Ddirs = pydiva4d.Diva4DDirectories(divamaindir)"
   ]
  },
  {
   "cell_type": "code",
   "execution_count": 18,
   "metadata": {
    "collapsed": false,
    "deletable": true,
    "editable": true
   },
   "outputs": [],
   "source": [
    "Diva4Dfiles = pydiva4d.Diva4Dfiles(Diva4Ddirs.diva4d)"
   ]
  },
  {
   "cell_type": "markdown",
   "metadata": {
    "deletable": true,
    "editable": true
   },
   "source": [
    "## Load the depth levels"
   ]
  },
  {
   "cell_type": "code",
   "execution_count": 19,
   "metadata": {
    "collapsed": false,
    "deletable": true,
    "editable": true
   },
   "outputs": [
    {
     "data": {
      "text/plain": [
       "[30.0, 20.0, 10.0, 0.0]"
      ]
     },
     "execution_count": 19,
     "metadata": {},
     "output_type": "execute_result"
    }
   ],
   "source": [
    "contourdepth = pydiva4d.Contourdepth()\n",
    "contourdepth.read_from(Diva4Dfiles.contourdepth)\n",
    "contourdepth.depthlist"
   ]
  },
  {
   "cell_type": "markdown",
   "metadata": {
    "deletable": true,
    "editable": true
   },
   "source": [
    "# Make the plots"
   ]
  },
  {
   "cell_type": "markdown",
   "metadata": {
    "collapsed": true,
    "deletable": true,
    "editable": true
   },
   "source": [
    "First we initialise the Basemap by selecting a projection and an area of interest.<br>\n",
    "The domain limits are extracted from the parameter file."
   ]
  },
  {
   "cell_type": "code",
   "execution_count": 32,
   "metadata": {
    "collapsed": false
   },
   "outputs": [],
   "source": [
    "Param = pydiva2d.Diva2DParameters()\n",
    "Param.read_from(os.path.join(Diva4Ddirs.diva4dinput, 'param.par'))"
   ]
  },
  {
   "cell_type": "code",
   "execution_count": 33,
   "metadata": {
    "collapsed": true,
    "deletable": true,
    "editable": true
   },
   "outputs": [],
   "source": [
    "m = Basemap(projection='merc', llcrnrlon=Param.xori, llcrnrlat=Param.yori, urcrnrlon=Param.xend,\n",
    "            urcrnrlat=Param.yend, resolution='i')"
   ]
  },
  {
   "cell_type": "markdown",
   "metadata": {
    "deletable": true,
    "editable": true
   },
   "source": [
    "## Loop on the contour"
   ]
  },
  {
   "cell_type": "code",
   "execution_count": 36,
   "metadata": {
    "collapsed": false,
    "deletable": true,
    "editable": true
   },
   "outputs": [
    {
     "name": "stderr",
     "output_type": "stream",
     "text": [
      "/usr/local/lib/python3.6/site-packages/mpl_toolkits/basemap/__init__.py:3260: MatplotlibDeprecationWarning: The ishold function was deprecated in version 2.0.\n",
      "  b = ax.ishold()\n",
      "/usr/local/lib/python3.6/site-packages/mpl_toolkits/basemap/__init__.py:3269: MatplotlibDeprecationWarning: axes.hold is deprecated.\n",
      "    See the API Changes document (http://matplotlib.org/api/api_changes.html)\n",
      "    for more details.\n",
      "  ax.hold(b)\n"
     ]
    }
   ],
   "source": [
    "for idepth, depth in enumerate(contourdepth.depthlist):\n",
    "    \n",
    "    contourfile = os.path.join(Diva4Ddirs.diva4dparam, 'coast.cont.{0}'.format(str(10001 + idepth)))\n",
    "\n",
    "    contour2D = pydiva4d.Diva2DContours()\n",
    "    contour2D.read_from(contourfile)\n",
    "\n",
    "    fig = plt.figure()\n",
    "    contour2D.add_to_plot(m, color='k', linewidth=.5)\n",
    "    plt.title(\"Contour at depth: {0} m\".format(depth))\n",
    "    m.drawmeridians(np.linspace(Param.xori, Param.xend, 4), labels=[0, 0, 0, 1], linewidth=0.2)\n",
    "    m.drawparallels(np.linspace(Param.yori, Param.yend, 4), labels=[1, 0, 0, 0], linewidth=0.2)\n",
    "    # plt.show()\n",
    "    plt.savefig(os.path.join(figdir, \"BlackSea_basemap_contour{0}\".format(idepth)))\n",
    "    plt.close()"
   ]
  },
  {
   "cell_type": "markdown",
   "metadata": {
    "deletable": true,
    "editable": true
   },
   "source": [
    "## Loop on the mesh"
   ]
  },
  {
   "cell_type": "code",
   "execution_count": 39,
   "metadata": {
    "collapsed": false,
    "deletable": true,
    "editable": true
   },
   "outputs": [
    {
     "name": "stderr",
     "output_type": "stream",
     "text": [
      "/usr/local/lib/python3.6/site-packages/mpl_toolkits/basemap/__init__.py:3260: MatplotlibDeprecationWarning: The ishold function was deprecated in version 2.0.\n",
      "  b = ax.ishold()\n",
      "/usr/local/lib/python3.6/site-packages/mpl_toolkits/basemap/__init__.py:3269: MatplotlibDeprecationWarning: axes.hold is deprecated.\n",
      "    See the API Changes document (http://matplotlib.org/api/api_changes.html)\n",
      "    for more details.\n",
      "  ax.hold(b)\n"
     ]
    }
   ],
   "source": [
    "for idepth, depth in enumerate(contourdepth.depthlist):\n",
    "    # Create the file names\n",
    "    meshtopofile = os.path.join(Diva4Ddirs.diva4dmesh, \"mesh.dat.{0}\".format(str(10000 + idepth + 1)))\n",
    "    meshfile = os.path.join(Diva4Ddirs.diva4dmesh, \"meshtopo.{0}\".format(str(10000 + idepth + 1)))\n",
    "    \n",
    "    # Mesh object\n",
    "    Mesh = pydiva4d.Diva2DMesh()\n",
    "    Mesh.read_from(meshfile, meshtopofile)\n",
    "    \n",
    "    # Make the plot\n",
    "    fig = plt.figure()\n",
    "    ax = plt.subplot(111)\n",
    "    Mesh.add_to_plot(m, linewidth=0.1, color='k')\n",
    "    m.drawmeridians(np.linspace(Param.xori, Param.xend, 4), labels=[0, 0, 0, 1], linewidth=0.2)\n",
    "    m.drawparallels(np.linspace(Param.yori, Param.yend, 4), labels=[1, 0, 0, 0], linewidth=0.2)\n",
    "    plt.title(\"Mesh at depth: {0} m\".format(depth))\n",
    "    plt.savefig(os.path.join(figdir, \"BlackSea_basemap_mesh{0}\".format(idepth)))\n",
    "    plt.close()"
   ]
  },
  {
   "cell_type": "markdown",
   "metadata": {
    "deletable": true,
    "editable": true
   },
   "source": [
    "## Loop on the times and depth levels for the results"
   ]
  },
  {
   "cell_type": "markdown",
   "metadata": {
    "deletable": true,
    "editable": true
   },
   "source": [
    "Load year and month periods:"
   ]
  },
  {
   "cell_type": "code",
   "execution_count": 40,
   "metadata": {
    "collapsed": false,
    "deletable": true,
    "editable": true
   },
   "outputs": [
    {
     "data": {
      "text/plain": [
       "['0101', '0202', '0303', '']"
      ]
     },
     "execution_count": 40,
     "metadata": {},
     "output_type": "execute_result"
    }
   ],
   "source": [
    "Monthlist = pydiva4d.Monthlist()\n",
    "Monthlist.read_from(Diva4Dfiles.monthlist)\n",
    "Monthlist.monthlist"
   ]
  },
  {
   "cell_type": "code",
   "execution_count": 41,
   "metadata": {
    "collapsed": false,
    "deletable": true,
    "editable": true
   },
   "outputs": [
    {
     "data": {
      "text/plain": [
       "['19002009']"
      ]
     },
     "execution_count": 41,
     "metadata": {},
     "output_type": "execute_result"
    }
   ],
   "source": [
    "Yearlist = pydiva4d.Yearlist()\n",
    "Yearlist.read_from(Diva4Dfiles.yearlist)\n",
    "Yearlist.yearlist"
   ]
  },
  {
   "cell_type": "markdown",
   "metadata": {
    "deletable": true,
    "editable": true
   },
   "source": [
    "## Load the variables"
   ]
  },
  {
   "cell_type": "code",
   "execution_count": 42,
   "metadata": {
    "collapsed": false,
    "deletable": true,
    "editable": true
   },
   "outputs": [
    {
     "data": {
      "text/plain": [
       "['Temperature', 'Salinity']"
      ]
     },
     "execution_count": 42,
     "metadata": {},
     "output_type": "execute_result"
    }
   ],
   "source": [
    "Varlist = pydiva4d.Varlist()\n",
    "Varlist.read_from(Diva4Dfiles.varlist)\n",
    "Varlist.varlist"
   ]
  },
  {
   "cell_type": "markdown",
   "metadata": {
    "deletable": true,
    "editable": true
   },
   "source": [
    "# Loop on levels, variables, periods..."
   ]
  },
  {
   "cell_type": "code",
   "execution_count": 45,
   "metadata": {
    "collapsed": false,
    "deletable": true,
    "editable": true
   },
   "outputs": [
    {
     "name": "stderr",
     "output_type": "stream",
     "text": [
      "/usr/local/lib/python3.6/site-packages/mpl_toolkits/basemap/__init__.py:3413: MatplotlibDeprecationWarning: The ishold function was deprecated in version 2.0.\n",
      "  b = ax.ishold()\n",
      "/usr/local/lib/python3.6/site-packages/mpl_toolkits/basemap/__init__.py:3422: MatplotlibDeprecationWarning: axes.hold is deprecated.\n",
      "    See the API Changes document (http://matplotlib.org/api/api_changes.html)\n",
      "    for more details.\n",
      "  ax.hold(b)\n"
     ]
    }
   ],
   "source": [
    "for variables in Varlist.varlist:\n",
    "    for yearperiods in Yearlist.yearlist:\n",
    "        for monthperiods in Monthlist.monthlist:\n",
    "            for idepth, depthlevels in enumerate(contourdepth.depthlist):\n",
    "                \n",
    "                resultfile = \"{0}.{1}.{2}.{3}.anl.nc\".format(variables, yearperiods,\n",
    "                                                             monthperiods, str(10000 + idepth + 1))\n",
    "                \n",
    "                figname = ''.join((resultfile.replace('.', '_'), '_basemap.png'))\n",
    "                figtitle = \"{0}, Year: {1}, Months: {2}, Depth: {3} m\".format(variables, yearperiods,\n",
    "                                                                                       monthperiods, str(depthlevels))\n",
    "                \n",
    "                if os.path.exists(os.path.join(Diva4Ddirs.diva4dfields, resultfile)):\n",
    "                    Results = pydiva4d.Diva2DResults(os.path.join(Diva4Ddirs.diva4dfields, resultfile))\n",
    "                    fig = plt.figure()\n",
    "                    ax = plt.subplot(111)\n",
    "                    resultplot = Results.add_to_plot(field='analysis', m=m)\n",
    "                    m.drawmeridians(np.linspace(Param.xori, Param.xend, 4), labels=[0, 0, 0, 1], linewidth=0.2)\n",
    "                    m.drawparallels(np.linspace(Param.yori, Param.yend, 4), labels=[1, 0, 0, 0], linewidth=0.2)\n",
    "                    plt.colorbar(resultplot)\n",
    "                    plt.title(figtitle)\n",
    "                    plt.savefig(os.path.join(figdir, figname))\n",
    "                    plt.close()"
   ]
  }
 ],
 "metadata": {
  "kernelspec": {
   "display_name": "Python 3",
   "language": "python",
   "name": "python3"
  },
  "language_info": {
   "codemirror_mode": {
    "name": "ipython",
    "version": 3
   },
   "file_extension": ".py",
   "mimetype": "text/x-python",
   "name": "python",
   "nbconvert_exporter": "python",
   "pygments_lexer": "ipython3",
   "version": "3.6.0"
  }
 },
 "nbformat": 4,
 "nbformat_minor": 2
}
