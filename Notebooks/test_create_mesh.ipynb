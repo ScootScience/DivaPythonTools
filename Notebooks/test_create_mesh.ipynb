{
 "cells": [
  {
   "cell_type": "code",
   "execution_count": 11,
   "metadata": {
    "collapsed": true
   },
   "outputs": [],
   "source": [
    "import os\n",
    "import logging\n",
    "import shutil\n",
    "import numpy as np\n",
    "import pydiva2d\n",
    "import importlib"
   ]
  },
  {
   "cell_type": "code",
   "execution_count": 17,
   "metadata": {
    "collapsed": false
   },
   "outputs": [
    {
     "name": "stderr",
     "output_type": "stream",
     "text": [
      "2017-06-09 12:24:14,673 - pydiva2d - INFO - Logs written in file: ./logs/Diva_2017-06-09_12:24:14.log\n"
     ]
    },
    {
     "data": {
      "text/plain": [
       "<module 'pydiva2d' from '/home/ctroupin/Projects/DivaPythonTools/pydiva2d.py'>"
      ]
     },
     "execution_count": 17,
     "metadata": {},
     "output_type": "execute_result"
    }
   ],
   "source": [
    "importlib.reload(pydiva2d)"
   ]
  },
  {
   "cell_type": "code",
   "execution_count": 18,
   "metadata": {
    "collapsed": true
   },
   "outputs": [],
   "source": [
    "logger = logging.getLogger('pydiva2d')"
   ]
  },
  {
   "cell_type": "code",
   "execution_count": 19,
   "metadata": {
    "collapsed": false
   },
   "outputs": [
    {
     "name": "stderr",
     "output_type": "stream",
     "text": [
      "2017-06-09 12:24:16,163 - pydiva2d - DEBUG - /home/ctroupin/Software/DIVA/DIVA-diva-4.7.1 exists\n",
      "2017-06-09 12:24:16,166 - pydiva2d - INFO - Diva main directory: /home/ctroupin/Software/DIVA/DIVA-diva-4.7.1\n",
      "2017-06-09 12:24:16,168 - pydiva2d - INFO - Creating Diva directory paths\n",
      "2017-06-09 12:24:16,170 - pydiva2d - INFO - Binary directory:   /home/ctroupin/Software/DIVA/DIVA-diva-4.7.1/DIVA3D/bin\n",
      "2017-06-09 12:24:16,172 - pydiva2d - INFO - Source directory:   /home/ctroupin/Software/DIVA/DIVA-diva-4.7.1/DIVA3D/src/Fortran\n",
      "2017-06-09 12:24:16,173 - pydiva2d - INFO - Main 2D directory:  /home/ctroupin/Software/DIVA/DIVA-diva-4.7.1/DIVA3D/divastripped\n",
      "2017-06-09 12:24:16,175 - pydiva2d - INFO - Main 4D directory:  /home/ctroupin/Software/DIVA/DIVA-diva-4.7.1/JRA4/Climatology\n",
      "2017-06-09 12:24:16,176 - pydiva2d - INFO - Example directory:  /home/ctroupin/Software/DIVA/DIVA-diva-4.7.1/Example4D/\n"
     ]
    }
   ],
   "source": [
    "divadir = \"/home/ctroupin/Software/DIVA/DIVA-diva-4.7.1\"\n",
    "DivaDirs = pydiva2d.DivaDirectories(divadir)"
   ]
  },
  {
   "cell_type": "code",
   "execution_count": 20,
   "metadata": {
    "collapsed": false
   },
   "outputs": [
    {
     "name": "stderr",
     "output_type": "stream",
     "text": [
      "2017-06-09 12:24:16,658 - pydiva2d - INFO - Creating Diva 2D mesh object\n"
     ]
    }
   ],
   "source": [
    "mesh2d = pydiva2d.Diva2DMesh()"
   ]
  },
  {
   "cell_type": "code",
   "execution_count": 21,
   "metadata": {
    "collapsed": false
   },
   "outputs": [
    {
     "name": "stderr",
     "output_type": "stream",
     "text": [
      "2017-06-09 12:24:16,976 - pydiva2d - ERROR - Mesh not generated, check log for more details\n",
      "2017-06-09 12:24:16,976 - pydiva2d - ERROR - Mesh not generated, check log for more details\n",
      "2017-06-09 12:24:16,976 - pydiva2d - ERROR - Mesh not generated, check log for more details\n",
      "2017-06-09 12:24:16,976 - pydiva2d - ERROR - Mesh not generated, check log for more details\n"
     ]
    }
   ],
   "source": [
    "mesh2d.make(DivaDirs.diva2d)"
   ]
  }
 ],
 "metadata": {
  "kernelspec": {
   "display_name": "Diva-python3.6",
   "language": "python",
   "name": "diva-python3.6"
  },
  "language_info": {
   "codemirror_mode": {
    "name": "ipython",
    "version": 3
   },
   "file_extension": ".py",
   "mimetype": "text/x-python",
   "name": "python",
   "nbconvert_exporter": "python",
   "pygments_lexer": "ipython3",
   "version": "3.6.0"
  }
 },
 "nbformat": 4,
 "nbformat_minor": 2
}
