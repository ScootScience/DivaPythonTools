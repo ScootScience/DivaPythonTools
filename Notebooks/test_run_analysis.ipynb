{
 "cells": [
  {
   "cell_type": "code",
   "execution_count": 1,
   "metadata": {
    "collapsed": true,
    "deletable": true,
    "editable": true
   },
   "outputs": [],
   "source": [
    "import os\n",
    "import logging\n",
    "import shutil\n",
    "import numpy as np\n",
    "import pydiva2d\n",
    "import importlib"
   ]
  },
  {
   "cell_type": "code",
   "execution_count": 2,
   "metadata": {
    "collapsed": false,
    "deletable": true,
    "editable": true
   },
   "outputs": [
    {
     "data": {
      "text/plain": [
       "<module 'pydiva2d' from '/home/ctroupin/Projects/DivaPythonTools/pydiva2d.py'>"
      ]
     },
     "execution_count": 2,
     "metadata": {},
     "output_type": "execute_result"
    }
   ],
   "source": [
    "importlib.reload(pydiva2d)"
   ]
  },
  {
   "cell_type": "code",
   "execution_count": 3,
   "metadata": {
    "collapsed": true,
    "deletable": true,
    "editable": true
   },
   "outputs": [],
   "source": [
    "logger = logging.getLogger('pydiva2d')"
   ]
  },
  {
   "cell_type": "code",
   "execution_count": 4,
   "metadata": {
    "collapsed": false,
    "deletable": true,
    "editable": true
   },
   "outputs": [],
   "source": [
    "divadir = \"/home/ctroupin/Software/DIVA/DIVA-diva-4.7.1\"\n",
    "DivaDirs = pydiva2d.DivaDirectories(divadir)"
   ]
  },
  {
   "cell_type": "code",
   "execution_count": 5,
   "metadata": {
    "collapsed": false,
    "deletable": true,
    "editable": true
   },
   "outputs": [],
   "source": [
    "analysis = pydiva2d.Diva2DResults()"
   ]
  },
  {
   "cell_type": "code",
   "execution_count": 6,
   "metadata": {
    "collapsed": false,
    "deletable": true,
    "editable": true
   },
   "outputs": [],
   "source": [
    "analysis.make(DivaDirs.diva2d)"
   ]
  },
  {
   "cell_type": "code",
   "execution_count": 7,
   "metadata": {
    "collapsed": false
   },
   "outputs": [
    {
     "data": {
      "text/plain": [
       "array([-10.        ,  -9.89999962,  -9.80000019,  -9.69999981,\n",
       "        -9.60000038,  -9.5       ,  -9.39999962,  -9.30000019,\n",
       "        -9.19999981,  -9.10000038,  -9.        ,  -8.89999962,\n",
       "        -8.80000019,  -8.69999981,  -8.60000038,  -8.5       ,\n",
       "        -8.39999962,  -8.30000019,  -8.19999981,  -8.10000038,\n",
       "        -8.        ,  -7.89999962,  -7.80000019,  -7.69999981,\n",
       "        -7.5999999 ,  -7.5       ,  -7.39999962,  -7.30000019,\n",
       "        -7.19999981,  -7.0999999 ,  -7.        ,  -6.89999962,\n",
       "        -6.80000019,  -6.69999981,  -6.5999999 ,  -6.5       ,\n",
       "        -6.39999962,  -6.30000019,  -6.19999981,  -6.0999999 ,\n",
       "        -6.        ,  -5.9000001 ,  -5.79999971,  -5.69999981,\n",
       "        -5.5999999 ,  -5.5       ,  -5.4000001 ,  -5.29999971,\n",
       "        -5.19999981,  -5.0999999 ,  -5.        ,  -4.9000001 ,\n",
       "        -4.79999971,  -4.69999981,  -4.5999999 ,  -4.5       ,\n",
       "        -4.4000001 ,  -4.29999971,  -4.19999981,  -4.0999999 ,\n",
       "        -4.        ,  -3.9000001 ,  -3.79999971,  -3.69999981,\n",
       "        -3.5999999 ,  -3.5       ,  -3.4000001 ,  -3.29999971,\n",
       "        -3.19999981,  -3.0999999 ,  -3.        ,  -2.9000001 ,\n",
       "        -2.79999971,  -2.69999981,  -2.5999999 ,  -2.5       ,\n",
       "        -2.4000001 ,  -2.29999971,  -2.19999981,  -2.0999999 ,\n",
       "        -2.        ,  -1.89999962,  -1.80000019,  -1.69999981,\n",
       "        -1.59999943,  -1.5       ,  -1.39999962,  -1.30000019,\n",
       "        -1.19999981,  -1.09999943,  -1.        ,  -0.89999962,\n",
       "        -0.80000019,  -0.69999981,  -0.59999943,  -0.5       ,\n",
       "        -0.39999962,  -0.30000019,  -0.19999981,  -0.09999943,\n",
       "         0.        ,   0.10000038,   0.19999981,   0.30000019,\n",
       "         0.40000057,   0.5       ,   0.60000038,   0.69999981,\n",
       "         0.80000019,   0.90000057,   1.        ,   1.10000038,\n",
       "         1.19999981,   1.30000019,   1.40000057,   1.5       ,\n",
       "         1.60000038,   1.69999981,   1.80000019,   1.90000057,\n",
       "         2.        ,   2.10000038,   2.19999981,   2.30000019,\n",
       "         2.40000057,   2.5       ,   2.60000038,   2.69999981,\n",
       "         2.80000019,   2.90000057,   3.        ,   3.10000038,\n",
       "         3.19999981,   3.30000019,   3.40000057,   3.5       ,\n",
       "         3.60000038,   3.69999981,   3.80000019,   3.90000057,\n",
       "         4.        ,   4.10000038,   4.19999981,   4.30000019,\n",
       "         4.40000057,   4.5       ,   4.60000038,   4.69999981,\n",
       "         4.80000019,   4.90000057,   5.        ,   5.10000038,\n",
       "         5.19999981,   5.30000019,   5.40000057,   5.5       ,\n",
       "         5.60000038,   5.69999981,   5.80000019,   5.90000057,\n",
       "         6.        ,   6.10000038,   6.20000076,   6.30000114,\n",
       "         6.39999962,   6.5       ,   6.60000038,   6.70000076,\n",
       "         6.80000114,   6.89999962,   7.        ,   7.10000038,\n",
       "         7.20000076,   7.30000114,   7.39999962,   7.5       ,\n",
       "         7.60000038,   7.70000076,   7.80000114,   7.89999962,\n",
       "         8.        ,   8.10000038,   8.20000076,   8.30000114,\n",
       "         8.39999962,   8.5       ,   8.60000038,   8.70000076,\n",
       "         8.80000114,   8.89999962,   9.        ,   9.10000038,\n",
       "         9.20000076,   9.30000114,   9.39999962,   9.5       ,\n",
       "         9.60000038,   9.70000076,   9.80000114,   9.89999962,  10.        ], dtype=float32)"
      ]
     },
     "execution_count": 7,
     "metadata": {},
     "output_type": "execute_result"
    }
   ],
   "source": [
    "analysis.x"
   ]
  },
  {
   "cell_type": "code",
   "execution_count": null,
   "metadata": {
    "collapsed": true
   },
   "outputs": [],
   "source": []
  }
 ],
 "metadata": {
  "kernelspec": {
   "display_name": "Diva-python3.6",
   "language": "python",
   "name": "diva-python3.6"
  },
  "language_info": {
   "codemirror_mode": {
    "name": "ipython",
    "version": 3
   },
   "file_extension": ".py",
   "mimetype": "text/x-python",
   "name": "python",
   "nbconvert_exporter": "python",
   "pygments_lexer": "ipython3",
   "version": "3.6.0"
  }
 },
 "nbformat": 4,
 "nbformat_minor": 2
}
