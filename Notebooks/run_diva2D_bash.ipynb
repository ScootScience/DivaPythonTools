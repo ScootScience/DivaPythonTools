{
 "cells": [
  {
   "cell_type": "markdown",
   "metadata": {},
   "source": [
    "This short tutorial shows how to run a simple Diva 2D case using bash commands.\n",
    "# Installation \n",
    "You need to have installed:\n",
    "* The [Diva](https://github.com/gher-ulg/DIVA) software tool. Install and compile the last version of the tool.\n",
    "* The bash Kernel for the Jupyter notebooks. See the [installation procedure](https://github.com/takluyver/bash_kernel)."
   ]
  },
  {
   "cell_type": "markdown",
   "metadata": {},
   "source": [
    "## Configuration\n",
    "First indicate where is your Diva main directory."
   ]
  },
  {
   "cell_type": "code",
   "execution_count": null,
   "metadata": {
    "collapsed": true
   },
   "outputs": [],
   "source": [
    "divadir=\"/home/ctroupin/Software/DIVA/DIVA-diva-4.7.1\""
   ]
  },
  {
   "cell_type": "markdown",
   "metadata": {},
   "source": [
    "Check of the directory exists:"
   ]
  },
  {
   "cell_type": "code",
   "execution_count": null,
   "metadata": {},
   "outputs": [],
   "source": [
    "if ! [ -d \"${divadir}\" ]; then\n",
    "  echo \"Directory \"${divadir}\" doesn't exist\"\n",
    "  echo \"Correct the path in the previous cell\"\n",
    "else\n",
    "  echo \"Directory \"${divadir}\" already exists\"\n",
    "fi"
   ]
  },
  {
   "cell_type": "markdown",
   "metadata": {},
   "source": [
    "For the 2D case, we will work in the *divastripped* directory."
   ]
  },
  {
   "cell_type": "code",
   "execution_count": null,
   "metadata": {},
   "outputs": [],
   "source": [
    "cd \"${divadir}\"/DIVA3D/divastripped/\n",
    "echo \"Diva2D main directory: $(pwd)\""
   ]
  },
  {
   "cell_type": "markdown",
   "metadata": {},
   "source": [
    "We also add the current directory (.) to the PATH variable."
   ]
  },
  {
   "cell_type": "code",
   "execution_count": null,
   "metadata": {
    "collapsed": true
   },
   "outputs": [],
   "source": [
    "PATH=$PATH:."
   ]
  },
  {
   "cell_type": "markdown",
   "metadata": {},
   "source": [
    "# Input files\n",
    "\n",
    "We need to have at least these 3 input files, located inside the *input* directory:\n",
    "* *param.par*, which contains the analysis parameters,\n",
    "* *coast.cont*, which delimitates the physical domain over which the analysis will be performed and \n",
    "* *data.dat*, which contains the data points.\n",
    "\n",
    "Let's create simple files to have an analysis running.    \n",
    "Before running these commands, make sure you have a copy of the your input files."
   ]
  },
  {
   "cell_type": "code",
   "execution_count": null,
   "metadata": {},
   "outputs": [],
   "source": [
    "printf '1\\n4\\n-10 -10\\n10 -10\\n10 10\\n-10 10\\n' > ./input/coast.cont\n",
    "more ./input/coast.cont"
   ]
  },
  {
   "cell_type": "code",
   "execution_count": null,
   "metadata": {},
   "outputs": [],
   "source": [
    "printf '0 0 1\\n1 -6 3\\n-2 4 -1' > ./input/data.dat\n",
    "more ./input/data.dat"
   ]
  },
  {
   "cell_type": "code",
   "execution_count": null,
   "metadata": {
    "collapsed": true
   },
   "outputs": [],
   "source": [
    "echo '# Correlation Length lc' > ./input/param.par\n",
    "echo '1.0' >> ./input/param.par\n",
    "echo '# icoordchange' >> ./input/param.par\n",
    "echo '0' >> ./input/param.par\n",
    "echo '# ispec' >> ./input/param.par\n",
    "echo '11' >> ./input/param.par\n",
    "echo '# ireg' >> ./input/param.par\n",
    "echo '0' >> ./input/param.par\n",
    "echo '# xori' >> ./input/param.par\n",
    "echo '-10' >> ./input/param.par\n",
    "echo '# yori' >> ./input/param.par\n",
    "echo '-10' >> ./input/param.par\n",
    "echo '# dx' >> ./input/param.par\n",
    "echo '0.1' >> ./input/param.par\n",
    "echo '# dy' >> ./input/param.par\n",
    "echo '0.1' >> ./input/param.par\n",
    "echo '# nx' >> ./input/param.par\n",
    "echo '201' >> ./input/param.par\n",
    "echo '#ny' >> ./input/param.par\n",
    "echo '201' >> ./input/param.par\n",
    "echo '# valex' >> ./input/param.par\n",
    "echo '-99' >> ./input/param.par\n",
    "echo '# snr' >> ./input/param.par\n",
    "echo '1.0' >> ./input/param.par\n",
    "echo '# varbak' >> ./input/param.par\n",
    "echo '1.0' >> ./input/param.par"
   ]
  },
  {
   "cell_type": "markdown",
   "metadata": {},
   "source": [
    "# Diva analysis\n",
    "\n",
    "Now the input files are ready we can perform an interpolation.\n",
    "1. Prepare the finite-element mesh with `divamesh`;\n",
    "2. Generate the gridded field."
   ]
  },
  {
   "cell_type": "markdown",
   "metadata": {},
   "source": [
    "## Mesh creation \n",
    "\n",
    "The is done by running the command:"
   ]
  },
  {
   "cell_type": "code",
   "execution_count": null,
   "metadata": {},
   "outputs": [],
   "source": [
    "./divamesh"
   ]
  },
  {
   "cell_type": "markdown",
   "metadata": {},
   "source": [
    "The mesh generation created 2 files, located in the directory *meshgenwork*:\n",
    "* *fort.22*, which contains the location of the nodes,\n",
    "* *fort.23*, which contains the mesh topology."
   ]
  },
  {
   "cell_type": "markdown",
   "metadata": {},
   "source": [
    "## Diva calculation"
   ]
  },
  {
   "cell_type": "markdown",
   "metadata": {},
   "source": [
    "We just need to execute the `divacalc` script.<br>\n",
    "It may take a few seconds..."
   ]
  },
  {
   "cell_type": "code",
   "execution_count": null,
   "metadata": {},
   "outputs": [],
   "source": [
    "./divacalc"
   ]
  },
  {
   "cell_type": "markdown",
   "metadata": {},
   "source": [
    "The results are stored in the *output* directory.<br> You can find more details about each output file in the [Diva User Guide](https://github.com/gher-ulg/Diva-User-Guide/raw/master/DivaUserGuide.pdf)."
   ]
  },
  {
   "cell_type": "markdown",
   "metadata": {},
   "source": [
    "## Visualisation\n",
    "If you have [ncview](http://meteora.ucsd.edu/%7Epierce/ncview_home_page.html) installed on your machine, you can directly have a look at the netCDF file."
   ]
  },
  {
   "cell_type": "code",
   "execution_count": null,
   "metadata": {},
   "outputs": [],
   "source": [
    "ncview output/ghertonetcdf/results.nc"
   ]
  },
  {
   "cell_type": "markdown",
   "metadata": {},
   "source": [
    "# Your turn\n",
    "\n",
    "* Modify the input files.\n",
    "* Re-run the mesh generation and the analysis.\n",
    "* Check the result and error field."
   ]
  }
 ],
 "metadata": {
  "kernelspec": {
   "display_name": "Bash",
   "language": "bash",
   "name": "bash"
  },
  "language_info": {
   "codemirror_mode": "shell",
   "file_extension": ".sh",
   "mimetype": "text/x-sh",
   "name": "bash"
  }
 },
 "nbformat": 4,
 "nbformat_minor": 2
}
