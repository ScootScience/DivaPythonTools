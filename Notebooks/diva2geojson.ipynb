{
 "cells": [
  {
   "cell_type": "markdown",
   "metadata": {},
   "source": [
    "Some examples of how to convert the main Diva input and output files to [geoJSON](http://geojson.org/) format."
   ]
  },
  {
   "cell_type": "code",
   "execution_count": 1,
   "metadata": {
    "collapsed": true
   },
   "outputs": [],
   "source": [
    "import os\n",
    "import numpy as np\n",
    "import matplotlib.pyplot as plt\n",
    "import json\n",
    "import geojson\n",
    "import pydiva2d\n",
    "import matplotlib._cntr as cntr"
   ]
  },
  {
   "cell_type": "markdown",
   "metadata": {},
   "source": [
    "# Input files"
   ]
  },
  {
   "cell_type": "code",
   "execution_count": 2,
   "metadata": {
    "collapsed": true
   },
   "outputs": [],
   "source": [
    "datafile = '../data/MLD1.dat'\n",
    "contourfile = '../data/coast.cont'\n",
    "meshfile = '../data/Mesh/BlackSea/mesh.dat'\n",
    "meshtopofile = '../data/Mesh/BlackSea/meshtopo.dat'\n",
    "resultfile = \"../data/MLD_analysed.nc\"\n",
    "outputdir = \"../data/geoJSON/\""
   ]
  },
  {
   "cell_type": "markdown",
   "metadata": {},
   "source": [
    "We load the data and results using the `pydiva2d` module.\n",
    "\n",
    "## Contours"
   ]
  },
  {
   "cell_type": "code",
   "execution_count": 3,
   "metadata": {},
   "outputs": [
    {
     "name": "stdout",
     "output_type": "stream",
     "text": [
      "28\n"
     ]
    }
   ],
   "source": [
    "Contour = pydiva2d.Diva2DContours().read_from(contourfile)\n",
    "print(Contour.get_contours_number)"
   ]
  },
  {
   "cell_type": "markdown",
   "metadata": {},
   "source": [
    "## Data"
   ]
  },
  {
   "cell_type": "code",
   "execution_count": 4,
   "metadata": {},
   "outputs": [
    {
     "data": {
      "text/plain": [
       "197"
      ]
     },
     "execution_count": 4,
     "metadata": {},
     "output_type": "execute_result"
    }
   ],
   "source": [
    "Data = pydiva2d.Diva2DData()\n",
    "Data.read_from(datafile)\n",
    "Data.count_data"
   ]
  },
  {
   "cell_type": "markdown",
   "metadata": {},
   "source": [
    "## Mesh"
   ]
  },
  {
   "cell_type": "code",
   "execution_count": 5,
   "metadata": {},
   "outputs": [
    {
     "name": "stdout",
     "output_type": "stream",
     "text": [
      "Number of nodes: 6447\n",
      "Number of interfaces: 14059\n",
      "Number of elements: 7592\n"
     ]
    }
   ],
   "source": [
    "Mesh = pydiva2d.Diva2DMesh()\n",
    "Mesh.read_from(meshfile, meshtopofile)\n",
    "Mesh.describe()"
   ]
  },
  {
   "cell_type": "markdown",
   "metadata": {},
   "source": [
    "## Field"
   ]
  },
  {
   "cell_type": "code",
   "execution_count": 6,
   "metadata": {},
   "outputs": [
    {
     "data": {
      "text/plain": [
       "(151,)"
      ]
     },
     "execution_count": 6,
     "metadata": {},
     "output_type": "execute_result"
    }
   ],
   "source": [
    "Field = pydiva2d.Diva2DResults().read_from(resultfile)\n",
    "Field.x.shape"
   ]
  },
  {
   "cell_type": "markdown",
   "metadata": {},
   "source": [
    "# Conversion to geoJSON\n",
    "\n",
    "## Data\n",
    "\n",
    "We just have to loop on the data points and add the content in the correct format.    \n",
    "The field values and the weights are written as properties of the points, so that they can be represented in plots."
   ]
  },
  {
   "cell_type": "code",
   "execution_count": 7,
   "metadata": {
    "collapsed": true
   },
   "outputs": [],
   "source": [
    "geojsondata = {\n",
    "    \"type\": \"FeatureCollection\",\n",
    "    \"features\": [\n",
    "    {\n",
    "        \"type\": \"Feature\",\n",
    "        \"geometry\" : {\n",
    "            \"type\": \"Point\",\n",
    "            \"coordinates\": [lon, lat],\n",
    "            },\n",
    "        \"properties\" : {\"field\": field, \"weight\": weight},\n",
    "     } for lon, lat, field, weight in zip(Data.x, Data.y, Data.field, Data.weight)]\n",
    "}"
   ]
  },
  {
   "cell_type": "markdown",
   "metadata": {},
   "source": [
    "Then we can write the new file:"
   ]
  },
  {
   "cell_type": "code",
   "execution_count": 8,
   "metadata": {
    "collapsed": true
   },
   "outputs": [],
   "source": [
    "with open(os.path.join(outputdir, \"blacksea-data.js\"), 'w') as f:\n",
    "    f.write(\"var data = \")\n",
    "    out = json.dumps(geojsondata, indent=2, separators=(',', ': '))\n",
    "    f.write(out)"
   ]
  },
  {
   "cell_type": "markdown",
   "metadata": {},
   "source": [
    "## Contours\n",
    "For the contours the best choice is a `MultiPolygon` objet."
   ]
  },
  {
   "cell_type": "code",
   "execution_count": 9,
   "metadata": {
    "collapsed": true
   },
   "outputs": [],
   "source": [
    "geojsonContour = {\n",
    "    \"type\": \"MultiPolygon\", \n",
    "    \"coordinates\": [[[[x, y] for x, y in zip(Contour.x[cont], Contour.y[cont])]] for cont in range(0, Contour.get_contours_number)]\n",
    "}"
   ]
  },
  {
   "cell_type": "markdown",
   "metadata": {},
   "source": [
    "The coutours are then written to a new file:"
   ]
  },
  {
   "cell_type": "code",
   "execution_count": 10,
   "metadata": {
    "collapsed": true
   },
   "outputs": [],
   "source": [
    "with open(os.path.join(outputdir, 'blacksea-contours.js'), 'w') as f:\n",
    "    f.write(\"var contours = \")\n",
    "    out = json.dumps(geojsonContour, indent=2, separators=(',', ': '))\n",
    "    f.write(out)"
   ]
  },
  {
   "cell_type": "markdown",
   "metadata": {},
   "source": [
    "## Finite-element mesh\n",
    "\n",
    "For the mesh we also use the `MultiPolygon` object from the module geojson, but it's probably easy to do without it (i.e.: do it later!)."
   ]
  },
  {
   "cell_type": "code",
   "execution_count": 11,
   "metadata": {
    "collapsed": true
   },
   "outputs": [],
   "source": [
    "NN = Mesh.nelements\n",
    "verts = []\n",
    "for j in range(0, NN):\n",
    "    verts.append([[(Mesh.xnode[Mesh.i1[j]], Mesh.ynode[Mesh.i1[j]]),\n",
    "                  (Mesh.xnode[Mesh.i2[j]], Mesh.ynode[Mesh.i2[j]]),\n",
    "                  (Mesh.xnode[Mesh.i3[j]], Mesh.ynode[Mesh.i3[j]]),\n",
    "                  (Mesh.xnode[Mesh.i1[j]], Mesh.ynode[Mesh.i1[j]])]]\n",
    "                )"
   ]
  },
  {
   "cell_type": "code",
   "execution_count": 12,
   "metadata": {
    "collapsed": true
   },
   "outputs": [],
   "source": [
    "geojsonMesh = geojson.MultiPolygon(verts)"
   ]
  },
  {
   "cell_type": "markdown",
   "metadata": {},
   "source": [
    "We also write it to a new file:"
   ]
  },
  {
   "cell_type": "code",
   "execution_count": 13,
   "metadata": {
    "collapsed": true
   },
   "outputs": [],
   "source": [
    "with open(os.path.join(outputdir, 'blacksea-mesh.js'), 'w') as f:\n",
    "    f.write(\"var mesh = \")\n",
    "    out = json.dumps(geojsonMesh, indent=2, separators=(',', ': '))\n",
    "    f.write(out)"
   ]
  },
  {
   "cell_type": "markdown",
   "metadata": {
    "collapsed": true
   },
   "source": [
    "## Field\n",
    "\n",
    "We use the contour function of `matplotlib.pyplot` to get the iso-lines.    \n",
    "Here we specify the level at which we need the contours, but we could also specify a number of contours or keep the default values of `plt.contour`."
   ]
  },
  {
   "cell_type": "code",
   "execution_count": 14,
   "metadata": {},
   "outputs": [],
   "source": [
    "llon, llat = np.meshgrid(Field.x, Field.y)\n",
    "contoursField = cntr.Cntr(llon, llat, Field.analysis)\n",
    "levels = np.arange(-60., -10., 5.)\n",
    "geojsonfield = { \n",
    "    \"type\": \"FeatureCollection\",\n",
    "    \"features\": [\n",
    "    {\n",
    "        \"type\": \"Feature\",\n",
    "        \"geometry\" : {\n",
    "            \"type\": \"MultiPolygon\",\n",
    "            \"coordinates\": [[ [ [lon, lat] for lon, lat in seg] for seg in contoursField.trace(level)[:len(contoursField.trace(level)) // 2]]],\n",
    "            },\n",
    "        \"properties\" : {\"field\": str(level)},\n",
    "     } for level in levels] \n",
    "}"
   ]
  },
  {
   "cell_type": "markdown",
   "metadata": {},
   "source": [
    "and we write it to a new file:"
   ]
  },
  {
   "cell_type": "code",
   "execution_count": 15,
   "metadata": {
    "collapsed": true
   },
   "outputs": [],
   "source": [
    "with open(os.path.join(outputdir, 'blacksea-results.js'), 'w') as f:\n",
    "    f.write(\"var results = \")\n",
    "    out = json.dumps(geojsonfield, indent=2, separators=(',', ': '))\n",
    "    f.write(out)"
   ]
  },
  {
   "cell_type": "markdown",
   "metadata": {},
   "source": [
    "Now all the input files are ready and we can use [Leaflet GeoJSON](http://leafletjs.com/examples/geojson/) to represent the information on a map."
   ]
  }
 ],
 "metadata": {
  "kernelspec": {
   "display_name": "Diva-python3.6",
   "language": "python",
   "name": "diva-python3.6"
  },
  "language_info": {
   "codemirror_mode": {
    "name": "ipython",
    "version": 3
   },
   "file_extension": ".py",
   "mimetype": "text/x-python",
   "name": "python",
   "nbconvert_exporter": "python",
   "pygments_lexer": "ipython3",
   "version": "3.6.0"
  }
 },
 "nbformat": 4,
 "nbformat_minor": 2
}
