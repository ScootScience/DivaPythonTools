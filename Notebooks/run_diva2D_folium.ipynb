{
 "cells": [
  {
   "cell_type": "markdown",
   "metadata": {
    "collapsed": true,
    "deletable": true,
    "editable": true
   },
   "source": [
    "This notebook presents an application of the [pydiva2D](./pydiva2d.py) module to perform a 2D Diva analysis and then generate figures for the different input and output using the [Folium](https://pypi.python.org/pypi/folium) module.<br>\n",
    "\n",
    "**Note:** since this module accesses various javascript libraries hosted on CDNs, an internet connection is needed to have a working example directly.<br>\n",
    "If you're familiar with leaflet, a workaround consist in editing the html file generated with [Folium](https://github.com/python-visualization/folium), and replace the URLs to the libraries with local paths."
   ]
  },
  {
   "cell_type": "code",
   "execution_count": 1,
   "metadata": {
    "collapsed": false,
    "deletable": true,
    "editable": true
   },
   "outputs": [],
   "source": [
    "import os\n",
    "import logging\n",
    "import numpy as np\n",
    "import matplotlib.pyplot as plt\n",
    "import folium\n",
    "from folium import plugins\n",
    "import json\n",
    "import geojson\n",
    "import subprocess\n",
    "from importlib import reload\n",
    "from mpl_toolkits.basemap import Basemap "
   ]
  },
  {
   "cell_type": "code",
   "execution_count": 2,
   "metadata": {
    "collapsed": true,
    "deletable": true,
    "editable": true
   },
   "outputs": [],
   "source": [
    "import sys\n",
    "sys.path.insert(0, \"../\")\n",
    "import pydiva2d"
   ]
  },
  {
   "cell_type": "markdown",
   "metadata": {
    "deletable": true,
    "editable": true
   },
   "source": [
    "We set up the logger so that only *info* messages are displayed on screen."
   ]
  },
  {
   "cell_type": "code",
   "execution_count": 3,
   "metadata": {
    "collapsed": true,
    "deletable": true,
    "editable": true
   },
   "outputs": [],
   "source": [
    "logger = logging.getLogger('diva2D')\n",
    "logger.setLevel(logging.DEBUG)\n",
    "pydiva2d.logger.setLevel(logging.DEBUG)"
   ]
  },
  {
   "cell_type": "markdown",
   "metadata": {
    "deletable": true,
    "editable": true
   },
   "source": [
    "# Prepare input files and directories"
   ]
  },
  {
   "cell_type": "markdown",
   "metadata": {
    "deletable": true,
    "editable": true
   },
   "source": [
    "In this example the input files are already created and can be found in the *data* directory."
   ]
  },
  {
   "cell_type": "code",
   "execution_count": 4,
   "metadata": {
    "collapsed": false,
    "deletable": true,
    "editable": true
   },
   "outputs": [],
   "source": [
    "datadir = './data/'\n",
    "datafile = os.path.join(datadir, 'MLD1.dat')\n",
    "coastfile = os.path.join(datadir, 'coast.cont')\n",
    "paramfile = os.path.join(datadir, 'param.par')"
   ]
  },
  {
   "cell_type": "markdown",
   "metadata": {
    "deletable": true,
    "editable": true
   },
   "source": [
    "We also create a directory *html* where we will save the resulting `Leaflet` maps."
   ]
  },
  {
   "cell_type": "code",
   "execution_count": 5,
   "metadata": {
    "collapsed": true,
    "deletable": true,
    "editable": true
   },
   "outputs": [],
   "source": [
    "htmldir = './html/'\n",
    "if os.path.exists(htmldir):\n",
    "    logger.debug(\"Directory {0} already exists\".format(htmldir))\n",
    "else:\n",
    "    logger.debug(\"Creating directory {0}\".format(htmldir))\n",
    "    os.makedirs(htmldir)"
   ]
  },
  {
   "cell_type": "markdown",
   "metadata": {
    "deletable": true,
    "editable": true
   },
   "source": [
    "## Create paths and file names"
   ]
  },
  {
   "cell_type": "markdown",
   "metadata": {
    "deletable": true,
    "editable": true
   },
   "source": [
    "We create the paths for the Diva directories and files:"
   ]
  },
  {
   "cell_type": "code",
   "execution_count": 6,
   "metadata": {
    "collapsed": false,
    "deletable": true,
    "editable": true
   },
   "outputs": [],
   "source": [
    "divadir = \"/home/ctroupin/Software/DIVA/DIVA-diva-4.7.1\"\n",
    "DivaDirs = pydiva2d.DivaDirectories(divadir)\n",
    "DivaFiles = pydiva2d.Diva2Dfiles(DivaDirs.diva2d)"
   ]
  },
  {
   "cell_type": "markdown",
   "metadata": {
    "deletable": true,
    "editable": true
   },
   "source": [
    "## Read input files"
   ]
  },
  {
   "cell_type": "markdown",
   "metadata": {
    "deletable": true,
    "editable": true
   },
   "source": [
    "Let's read the information from the input files.<br>\n",
    "For each input file, we first creat an object (i.e., **Data**, **Contour** and **Param**) that will allow us to perform operations such as \n",
    "* reading, \n",
    "* writing, \n",
    "* plotting, \n",
    "* getting a description."
   ]
  },
  {
   "cell_type": "code",
   "execution_count": 7,
   "metadata": {
    "collapsed": false,
    "deletable": true,
    "editable": true
   },
   "outputs": [],
   "source": [
    "Data = pydiva2d.Diva2DData()\n",
    "Data.read_from(\"../data/MLD1.dat\")\n",
    "Contour = pydiva2d.Diva2DContours()\n",
    "Contour.read_from(\"../data/coast.cont\")\n",
    "Param = pydiva2d.Diva2DParameters()\n",
    "Param.read_from(\"../data/param.par\")"
   ]
  },
  {
   "cell_type": "markdown",
   "metadata": {
    "deletable": true,
    "editable": true
   },
   "source": [
    "# Make the analysis"
   ]
  },
  {
   "cell_type": "markdown",
   "metadata": {
    "deletable": true,
    "editable": true
   },
   "source": [
    "We write the inputs to the corresponding files using the *write_to* functions available for each type of input:"
   ]
  },
  {
   "cell_type": "code",
   "execution_count": 8,
   "metadata": {
    "collapsed": false,
    "deletable": true,
    "editable": true
   },
   "outputs": [],
   "source": [
    "Data.write_to(DivaFiles.data)\n",
    "Param.write_to(DivaFiles.parameter)\n",
    "Contour.write_to(DivaFiles.contour)"
   ]
  },
  {
   "cell_type": "markdown",
   "metadata": {
    "deletable": true,
    "editable": true
   },
   "source": [
    "## Generate the mesh"
   ]
  },
  {
   "cell_type": "markdown",
   "metadata": {
    "deletable": true,
    "editable": true
   },
   "source": [
    "We simply call the `divamesh` script:"
   ]
  },
  {
   "cell_type": "code",
   "execution_count": 9,
   "metadata": {
    "collapsed": false,
    "deletable": true,
    "editable": true
   },
   "outputs": [
    {
     "data": {
      "text/plain": [
       "<subprocess.Popen at 0x7fd1c7ad1978>"
      ]
     },
     "execution_count": 9,
     "metadata": {},
     "output_type": "execute_result"
    }
   ],
   "source": [
    "subprocess.Popen(\"./divamesh\", cwd=DivaDirs.diva2d, shell=True)"
   ]
  },
  {
   "cell_type": "markdown",
   "metadata": {
    "deletable": true,
    "editable": true
   },
   "source": [
    "and we create a new **Mesh** object using the information from the 2 files generated by the mesh generation:"
   ]
  },
  {
   "cell_type": "code",
   "execution_count": 10,
   "metadata": {
    "collapsed": false,
    "deletable": true,
    "editable": true
   },
   "outputs": [],
   "source": [
    "Mesh = pydiva2d.Diva2DMesh()\n",
    "Mesh.read_from(DivaFiles.mesh, DivaFiles.meshtopo)"
   ]
  },
  {
   "cell_type": "markdown",
   "metadata": {
    "deletable": true,
    "editable": true
   },
   "source": [
    "## Perform the analysis"
   ]
  },
  {
   "cell_type": "markdown",
   "metadata": {
    "deletable": true,
    "editable": true
   },
   "source": [
    "We call the `divacalc` script:"
   ]
  },
  {
   "cell_type": "code",
   "execution_count": 11,
   "metadata": {
    "collapsed": false,
    "deletable": true,
    "editable": true
   },
   "outputs": [
    {
     "data": {
      "text/plain": [
       "<subprocess.Popen at 0x7fd1c7ad1f98>"
      ]
     },
     "execution_count": 11,
     "metadata": {},
     "output_type": "execute_result"
    }
   ],
   "source": [
    "subprocess.Popen(\"./divacalc\", cwd=DivaDirs.diva2d, shell=True)"
   ]
  },
  {
   "cell_type": "markdown",
   "metadata": {
    "deletable": true,
    "editable": true
   },
   "source": [
    "and load the results in a new object **Analysis**:"
   ]
  },
  {
   "cell_type": "code",
   "execution_count": 12,
   "metadata": {
    "collapsed": false,
    "deletable": true,
    "editable": true
   },
   "outputs": [
    {
     "name": "stderr",
     "output_type": "stream",
     "text": [
      "2017-04-27 15:43:54,746 - pydiva2d - WARNING - No error field in the netCDF file (will return NaN's)\n"
     ]
    }
   ],
   "source": [
    "Analysis = pydiva2d.Diva2DResults(DivaFiles.result)"
   ]
  },
  {
   "cell_type": "markdown",
   "metadata": {
    "deletable": true,
    "editable": true
   },
   "source": [
    "# Create the maps"
   ]
  },
  {
   "cell_type": "markdown",
   "metadata": {
    "deletable": true,
    "editable": true
   },
   "source": [
    "In this example the plots are created using the [Folium](https://github.com/python-visualization/folium) module.<br>\n",
    "In each step of the map creation, we will save a html file containg the different elements."
   ]
  },
  {
   "cell_type": "markdown",
   "metadata": {
    "deletable": true,
    "editable": true
   },
   "source": [
    "## Initialise the projection"
   ]
  },
  {
   "cell_type": "markdown",
   "metadata": {
    "deletable": true,
    "editable": true
   },
   "source": [
    "We will center the map on the region specified by the parameters.<br>\n",
    "The zoom level (zoom_start) has to be adapted according to the extension of the region."
   ]
  },
  {
   "cell_type": "code",
   "execution_count": 13,
   "metadata": {
    "collapsed": false,
    "deletable": true,
    "editable": true
   },
   "outputs": [],
   "source": [
    "divamap = folium.Map(location=[.5 * (Param.yori + Param.yend) , .5 * (Param.xori + Param.xend)], \n",
    "                     min_lat=Param.yori, max_lat=Param.yend, \n",
    "                     min_lon=Param.xori, max_lon=Param.xend,\n",
    "                     zoom_start=7)\n",
    "divamap.save(os.path.join(htmldir, 'basemap.html'))"
   ]
  },
  {
   "cell_type": "markdown",
   "metadata": {
    "deletable": true,
    "editable": true
   },
   "source": [
    "## Data points"
   ]
  },
  {
   "cell_type": "markdown",
   "metadata": {
    "collapsed": true,
    "deletable": true,
    "editable": true
   },
   "source": [
    "We place a circle for each data location."
   ]
  },
  {
   "cell_type": "code",
   "execution_count": 14,
   "metadata": {
    "collapsed": false,
    "deletable": true,
    "editable": true
   },
   "outputs": [],
   "source": [
    "for lat, lon in zip(Data.y, Data.x):\n",
    "    #datapoints = folium.CircleMarker([Data.y, Data.x])\n",
    "    folium.CircleMarker(location=[lat, lon], radius=5, color='green').add_to(divamap)\n",
    "    #divamap.add_child(datapoints)\n",
    "divamap.save(os.path.join(htmldir, 'datapoints.html'))"
   ]
  },
  {
   "cell_type": "markdown",
   "metadata": {
    "deletable": true,
    "editable": true
   },
   "source": [
    "## Contours"
   ]
  },
  {
   "cell_type": "markdown",
   "metadata": {
    "collapsed": true,
    "deletable": true,
    "editable": true
   },
   "source": [
    "The different contours are read and represented as *Polylines*."
   ]
  },
  {
   "cell_type": "code",
   "execution_count": 15,
   "metadata": {
    "collapsed": false,
    "deletable": true,
    "editable": true,
    "scrolled": true
   },
   "outputs": [],
   "source": [
    "for lons, lats in zip(Contour.x, Contour.y):\n",
    "    # Note that coordinates are defined as (lat, lon)\n",
    "    coords = zip(lats, lons)\n",
    "    folium.PolyLine(locations=coords, color='blue', weight=5, opacity=0.75).add_to(divamap)\n",
    "divamap.save(os.path.join(htmldir, 'contours.html'))"
   ]
  },
  {
   "cell_type": "markdown",
   "metadata": {
    "deletable": true,
    "editable": true
   },
   "source": [
    "## Analysis"
   ]
  },
  {
   "cell_type": "markdown",
   "metadata": {
    "deletable": true,
    "editable": true
   },
   "source": [
    "The procedure works in two steps:\n",
    "1. create a figure (png),\n",
    "2. add the figure as an overlay to the map."
   ]
  },
  {
   "cell_type": "markdown",
   "metadata": {
    "collapsed": true,
    "deletable": true,
    "editable": true
   },
   "source": [
    "### Generation of a figure"
   ]
  },
  {
   "cell_type": "markdown",
   "metadata": {
    "deletable": true,
    "editable": true
   },
   "source": [
    "We want to prepare a figure that has no border, axis, title, ...<br>\n",
    "It is also necessary to specify the projection ([epsg 3857](http://spatialreference.org/ref/sr-org/6864/)) in order to fit with the map background."
   ]
  },
  {
   "cell_type": "code",
   "execution_count": 16,
   "metadata": {
    "collapsed": false,
    "deletable": true,
    "editable": true
   },
   "outputs": [
    {
     "name": "stderr",
     "output_type": "stream",
     "text": [
      "/usr/local/lib/python3.6/site-packages/mpl_toolkits/basemap/__init__.py:3413: MatplotlibDeprecationWarning: The ishold function was deprecated in version 2.0.\n",
      "  b = ax.ishold()\n",
      "/usr/local/lib/python3.6/site-packages/mpl_toolkits/basemap/__init__.py:3422: MatplotlibDeprecationWarning: axes.hold is deprecated.\n",
      "    See the API Changes document (http://matplotlib.org/api/api_changes.html)\n",
      "    for more details.\n",
      "  ax.hold(b)\n"
     ]
    }
   ],
   "source": [
    "resultfigname = 'analysedfield.png'\n",
    "m = Basemap(llcrnrlon=Param.xori, llcrnrlat=Param.yori,\n",
    "            urcrnrlon=Param.xend, urcrnrlat=Param.yend, resolution = 'l', epsg=3857)\n",
    "lon, lat = np.meshgrid(Analysis.x, Analysis.y)\n",
    "llon, llat = m(lon, lat)\n",
    "fig = plt.figure(frameon=False)\n",
    "ax = fig.add_axes([0, 0, 1, 1])\n",
    "ax.axis('off')\n",
    "Analysis.add_to_plot(field='analysis', m=m)\n",
    "f1 = plt.gca()\n",
    "f1.axes.get_xaxis().set_ticks([])\n",
    "f1.axes.get_yaxis().set_ticks([])\n",
    "# plt.show()\n",
    "plt.savefig(os.path.join(htmldir, resultfigname), transparent=True, bbox_inches='tight', pad_inches=0)\n",
    "plt.close()"
   ]
  },
  {
   "cell_type": "markdown",
   "metadata": {},
   "source": [
    "### Create overlay"
   ]
  },
  {
   "cell_type": "markdown",
   "metadata": {
    "collapsed": true,
    "deletable": true,
    "editable": true
   },
   "source": [
    "Now the figure is created, it can be added as an overlay to the map.<br>\n",
    "To do so we use the [ImageOverlay](https://github.com/python-visualization/folium/blob/master/folium/plugins/image_overlay.py) method. Note that one can also use a numpy array as input, but here we prefer to first generate the figure in order to have more control on its aspect."
   ]
  },
  {
   "cell_type": "code",
   "execution_count": 17,
   "metadata": {
    "collapsed": false
   },
   "outputs": [],
   "source": [
    "folium.plugins.ImageOverlay(resultfigname,\n",
    "                            bounds=[[Param.yori, Param.xori], [Param.yend, Param.xend]], \n",
    "                            opacity=.8\n",
    "                           ).add_to(divamap)\n",
    "divamap.save(os.path.join(htmldir, 'results.html'))"
   ]
  },
  {
   "cell_type": "markdown",
   "metadata": {},
   "source": [
    "## Finite-element mesh"
   ]
  },
  {
   "cell_type": "markdown",
   "metadata": {},
   "source": [
    "We follow the same procedure as for the analysed field:\n",
    "* generate a figure,\n",
    "* add it as an overlay."
   ]
  },
  {
   "cell_type": "code",
   "execution_count": 18,
   "metadata": {
    "collapsed": false
   },
   "outputs": [
    {
     "name": "stderr",
     "output_type": "stream",
     "text": [
      "/usr/local/lib/python3.6/site-packages/mpl_toolkits/basemap/__init__.py:3260: MatplotlibDeprecationWarning: The ishold function was deprecated in version 2.0.\n",
      "  b = ax.ishold()\n",
      "/usr/local/lib/python3.6/site-packages/mpl_toolkits/basemap/__init__.py:3269: MatplotlibDeprecationWarning: axes.hold is deprecated.\n",
      "    See the API Changes document (http://matplotlib.org/api/api_changes.html)\n",
      "    for more details.\n",
      "  ax.hold(b)\n"
     ]
    }
   ],
   "source": [
    "meshfigname = 'mesh.png'\n",
    "m = Basemap(llcrnrlon=Param.xori, llcrnrlat=Param.yori,\n",
    "            urcrnrlon=Param.xend, urcrnrlat=Param.yend, resolution = 'l', epsg=3857)\n",
    "fig = plt.figure(frameon=False)\n",
    "ax = fig.add_axes([0, 0, 1, 1])\n",
    "ax.axis('off')\n",
    "Mesh.add_to_plot(m=m, linewidth=.2, color='k')\n",
    "f1 = plt.gca()\n",
    "f1.axes.get_xaxis().set_ticks([])\n",
    "f1.axes.get_yaxis().set_ticks([])\n",
    "# plt.show()\n",
    "plt.savefig(os.path.join(htmldir, meshfigname), transparent=True, bbox_inches='tight', pad_inches=0)\n",
    "plt.close()"
   ]
  },
  {
   "cell_type": "code",
   "execution_count": 19,
   "metadata": {
    "collapsed": true
   },
   "outputs": [],
   "source": [
    "folium.plugins.ImageOverlay(meshfigname,\n",
    "                            bounds=[[Param.yori, Param.xori], [Param.yend, Param.xend]],\n",
    "                           ).add_to(divamap)\n",
    "divamap.save(os.path.join(htmldir, 'mesh.html'))"
   ]
  },
  {
   "cell_type": "markdown",
   "metadata": {},
   "source": [
    "# Visualisation"
   ]
  },
  {
   "cell_type": "markdown",
   "metadata": {},
   "source": [
    "We have create one html file per level of plot: \n",
    "* [data points](./html/datapoints.html), \n",
    "* [contours](contours.html), \n",
    "* [analysed fields](results.html)\n",
    "* [mesh](./html/mesh.html).\n",
    "\n",
    "One can easily combine and customise the different elements of the plot to obtained the desired Leaflet map."
   ]
  }
 ],
 "metadata": {
  "kernelspec": {
   "display_name": "Python 3",
   "language": "python",
   "name": "python3"
  },
  "language_info": {
   "codemirror_mode": {
    "name": "ipython",
    "version": 3
   },
   "file_extension": ".py",
   "mimetype": "text/x-python",
   "name": "python",
   "nbconvert_exporter": "python",
   "pygments_lexer": "ipython3",
   "version": "3.6.0"
  }
 },
 "nbformat": 4,
 "nbformat_minor": 2
}
