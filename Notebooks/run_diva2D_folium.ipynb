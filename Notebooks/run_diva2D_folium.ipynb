{
 "cells": [
  {
   "cell_type": "markdown",
   "metadata": {
    "collapsed": true
   },
   "source": [
    "This notebook presents an application of the [pydiva2D](./pydiva/pydiva2d.py) module to perform a 2D Diva analysis and then generate figures for the different input and output using the [Folium](https://pypi.python.org/pypi/folium) module.\n",
    "\n",
    "**Note:** since this module accesses various javascript libraries hosted on CDNs, an internet connection is needed to have a working example directly.    \n",
    "If you're familiar with [leaflet](http://leafletjs.com/), a better solution would be to create JSON files for the different DIVA inputs and outputs, and the visualise with a selected style."
   ]
  },
  {
   "cell_type": "code",
   "execution_count": null,
   "metadata": {
    "collapsed": true
   },
   "outputs": [],
   "source": [
    "import os\n",
    "import logging\n",
    "import numpy as np\n",
    "import matplotlib.pyplot as plt\n",
    "import folium\n",
    "from folium import plugins\n",
    "import json\n",
    "import geojson\n",
    "import subprocess\n",
    "from pydiva import pydiva2d\n",
    "from importlib import reload\n",
    "from mpl_toolkits.basemap import Basemap "
   ]
  },
  {
   "cell_type": "markdown",
   "metadata": {},
   "source": [
    "We set up the logger so that only *info* messages are displayed on screen."
   ]
  },
  {
   "cell_type": "code",
   "execution_count": null,
   "metadata": {
    "collapsed": true
   },
   "outputs": [],
   "source": [
    "logger = logging.getLogger('diva2D')\n",
    "logger.setLevel(logging.DEBUG)\n",
    "pydiva2d.logger.setLevel(logging.DEBUG)"
   ]
  },
  {
   "cell_type": "markdown",
   "metadata": {},
   "source": [
    "# Prepare input files and directories\n",
    "\n",
    "In this example the input files are already created and can be found in the *data* directory."
   ]
  },
  {
   "cell_type": "code",
   "execution_count": null,
   "metadata": {
    "collapsed": true
   },
   "outputs": [],
   "source": [
    "datadir = '../data/'\n",
    "datafile = os.path.join(datadir, 'MLD1.dat')\n",
    "coastfile = os.path.join(datadir, 'coast.cont')\n",
    "paramfile = os.path.join(datadir, 'param.par')"
   ]
  },
  {
   "cell_type": "markdown",
   "metadata": {},
   "source": [
    "We also create a directory *html* where we will save the resulting `Leaflet` maps."
   ]
  },
  {
   "cell_type": "code",
   "execution_count": null,
   "metadata": {
    "collapsed": true
   },
   "outputs": [],
   "source": [
    "htmldir = './html/'\n",
    "if os.path.exists(htmldir):\n",
    "    logger.debug(\"Directory {0} already exists\".format(htmldir))\n",
    "else:\n",
    "    logger.debug(\"Creating directory {0}\".format(htmldir))\n",
    "    os.makedirs(htmldir)"
   ]
  },
  {
   "cell_type": "code",
   "execution_count": null,
   "metadata": {
    "collapsed": true
   },
   "outputs": [],
   "source": [
    "divadir = \"/home/ctroupin/Software/DIVA/DIVA-diva-4.7.1\""
   ]
  },
  {
   "cell_type": "markdown",
   "metadata": {},
   "source": [
    "# Run Diva\n",
    "## Generate the mesh"
   ]
  },
  {
   "cell_type": "code",
   "execution_count": null,
   "metadata": {
    "collapsed": true
   },
   "outputs": [],
   "source": [
    "mesh2d = pydiva2d.Diva2DMesh().make(divadir, coastfile, paramfile)"
   ]
  },
  {
   "cell_type": "markdown",
   "metadata": {},
   "source": [
    "## Make the analysis"
   ]
  },
  {
   "cell_type": "code",
   "execution_count": null,
   "metadata": {
    "collapsed": true
   },
   "outputs": [],
   "source": [
    "analysis2d = pydiva2d.Diva2DResults().make(divadir, contourfile=coastfile, paramfile=paramfile, datafile=datafile)"
   ]
  },
  {
   "cell_type": "markdown",
   "metadata": {},
   "source": [
    "# Create the maps\n",
    "\n",
    "In this example the plots are created using the [Folium](https://github.com/python-visualization/folium) module.<br>\n",
    "In each step of the map creation, we will save a html file containg the different elements.\n",
    "\n",
    "## Initialise the projection\n",
    "\n",
    "We will center the map on the region covered by the analysis.    \n",
    "The zoom level (zoom_start) has to be adapted according to the extension of the region."
   ]
  },
  {
   "cell_type": "code",
   "execution_count": null,
   "metadata": {
    "collapsed": true
   },
   "outputs": [],
   "source": [
    "divamap = folium.Map(location=[analysis2d.y.mean() , analysis2d.x.mean()], \n",
    "                     min_lat=analysis2d.y.min(), max_lat=analysis2d.y.max(), \n",
    "                     min_lon=analysis2d.x.min(), max_lon=analysis2d.x.max(),\n",
    "                     zoom_start=7)\n",
    "divamap.save(os.path.join(htmldir, 'basemap.html'))"
   ]
  },
  {
   "cell_type": "markdown",
   "metadata": {},
   "source": [
    "## Data points\n",
    "\n",
    "We place a circle for each data location."
   ]
  },
  {
   "cell_type": "code",
   "execution_count": null,
   "metadata": {
    "collapsed": true
   },
   "outputs": [],
   "source": [
    "Data = pydiva2d.Diva2DData().read_from(datafile)\n",
    "for lat, lon in zip(Data.y, Data.x):\n",
    "    #datapoints = folium.CircleMarker([Data.y, Data.x])\n",
    "    folium.CircleMarker(location=[lat, lon], radius=5, color='green').add_to(divamap)\n",
    "    #divamap.add_child(datapoints)\n",
    "divamap.save(os.path.join(htmldir, 'datapoints.html'))"
   ]
  },
  {
   "cell_type": "markdown",
   "metadata": {},
   "source": [
    "## Contours\n",
    "\n",
    "The different contours are read and represented as *Polylines*."
   ]
  },
  {
   "cell_type": "code",
   "execution_count": null,
   "metadata": {
    "collapsed": true,
    "scrolled": true
   },
   "outputs": [],
   "source": [
    "Contour = pydiva2d.Diva2DContours().read_from(coastfile)\n",
    "for lons, lats in zip(Contour.x, Contour.y):\n",
    "    # Note that coordinates are defined as (lat, lon)\n",
    "    coords = zip(lats, lons)\n",
    "    folium.PolyLine(locations=coords, color='blue', weight=5, opacity=0.75).add_to(divamap)\n",
    "divamap.save(os.path.join(htmldir, 'contours.html'))"
   ]
  },
  {
   "cell_type": "markdown",
   "metadata": {},
   "source": [
    "We want to prepare a figure that has no border, axis, title, ...<br>\n",
    "It is also necessary to specify the projection ([epsg 3857](http://spatialreference.org/ref/sr-org/6864/)) in order to fit with the map background."
   ]
  },
  {
   "cell_type": "markdown",
   "metadata": {},
   "source": [
    "## Analysis\n",
    "\n",
    "The procedure works in two steps:\n",
    "1. create a figure (png),\n",
    "2. add the figure as an overlay to the map.\n",
    "\n",
    "Another solution, not presented here, consists in creating a [geoJSON](http://geojson.org/) file that can be read by leaflet.\n",
    "\n",
    "### Generation of a figure\n",
    "\n",
    "The key option to ensure the figure will fit on the map is [`epsg=3857`](https://epsg.io/3857), which states that we use the same projection as in google-maps and [OpenStreetMap](http://openstreetmap.org/)."
   ]
  },
  {
   "cell_type": "code",
   "execution_count": null,
   "metadata": {},
   "outputs": [],
   "source": [
    "resultfigname = 'analysedfield.png'\n",
    "m = Basemap(llcrnrlon=analysis2d.x.min(), llcrnrlat=analysis2d.y.min(),\n",
    "            urcrnrlon=analysis2d.x.max(), urcrnrlat=analysis2d.y.max(), \n",
    "            resolution = 'l', epsg=3857)\n",
    "lon, lat = np.meshgrid(analysis2d.x, analysis2d.y)\n",
    "llon, llat = m(lon, lat)\n",
    "fig = plt.figure(frameon=False)\n",
    "ax = fig.add_axes([0, 0, 1, 1])\n",
    "ax.axis('off')\n",
    "analysis2d.add_to_plot(field='analysis', m=m)\n",
    "f1 = plt.gca()\n",
    "f1.axes.get_xaxis().set_ticks([])\n",
    "f1.axes.get_yaxis().set_ticks([])\n",
    "# plt.show()\n",
    "plt.savefig(os.path.join(htmldir, resultfigname), \n",
    "            transparent=True, \n",
    "            bbox_inches='tight', \n",
    "            pad_inches=0)\n",
    "plt.close()"
   ]
  },
  {
   "cell_type": "markdown",
   "metadata": {},
   "source": [
    "### Create overlay\n",
    "\n",
    "Now the figure is created, it can be added as an overlay to the map.      \n",
    "To do so we use the [ImageOverlay](https://github.com/python-visualization/folium/blob/master/folium/plugins/image_overlay.py) method. Note that one can also use a numpy array as input, but here we prefer to first generate the figure in order to have more control on its aspect."
   ]
  },
  {
   "cell_type": "code",
   "execution_count": null,
   "metadata": {
    "collapsed": true
   },
   "outputs": [],
   "source": [
    "folium.plugins.ImageOverlay(os.path.join(htmldir, resultfigname),\n",
    "                            bounds=[[analysis2d.y.min().tolist(), analysis2d.x.min().tolist()], \n",
    "                                    [analysis2d.y.max().tolist(), analysis2d.x.max().tolist()]], \n",
    "                            opacity=0.8\n",
    "                           ).add_to(divamap)\n",
    "divamap.save(os.path.join(htmldir, 'results.html'))"
   ]
  },
  {
   "cell_type": "markdown",
   "metadata": {},
   "source": [
    "## Finite-element mesh\n",
    "\n",
    "We follow the same procedure as for the analysed field:\n",
    "* generate a figure,\n",
    "* add it as an overlay.\n",
    "\n",
    "Again, we could also create a geoJSON file representing the mesh."
   ]
  },
  {
   "cell_type": "code",
   "execution_count": null,
   "metadata": {},
   "outputs": [],
   "source": [
    "meshfigname = 'mesh.png'\n",
    "fig = plt.figure(frameon=False)\n",
    "ax = fig.add_axes([0, 0, 1, 1])\n",
    "ax.axis('off')\n",
    "mesh2d.add_to_plot(m=m, linewidth=.2, color='k')\n",
    "f1 = plt.gca()\n",
    "f1.axes.get_xaxis().set_ticks([])\n",
    "f1.axes.get_yaxis().set_ticks([])\n",
    "# plt.show()\n",
    "plt.savefig(os.path.join(htmldir, meshfigname), dpi=300,\n",
    "            transparent=True, \n",
    "            bbox_inches='tight', \n",
    "            pad_inches=0)\n",
    "plt.close()"
   ]
  },
  {
   "cell_type": "code",
   "execution_count": null,
   "metadata": {
    "collapsed": true
   },
   "outputs": [],
   "source": [
    "folium.plugins.ImageOverlay(os.path.join(htmldir, meshfigname),\n",
    "                            bounds=[[analysis2d.y.min().tolist(), analysis2d.x.min().tolist()], \n",
    "                                    [analysis2d.y.max().tolist(), analysis2d.x.max().tolist()]]\n",
    "                           ).add_to(divamap)\n",
    "divamap.save(os.path.join(htmldir, 'mesh.html'))"
   ]
  },
  {
   "cell_type": "markdown",
   "metadata": {},
   "source": [
    "# Visualisation\n",
    "\n",
    "We have create one html file per level of plot: \n",
    "* [data points](./html/datapoints.html), \n",
    "* [contours](./html/contours.html), \n",
    "* [analysed fields](./html/results.html)\n",
    "* [mesh](./html/mesh.html).\n",
    "\n",
    "One can easily combine and customise the different elements of the plot to obtained the desired Leaflet map."
   ]
  }
 ],
 "metadata": {
  "kernelspec": {
   "display_name": "Diva-python3.6",
   "language": "python",
   "name": "diva-python3.6"
  },
  "language_info": {
   "codemirror_mode": {
    "name": "ipython",
    "version": 3
   },
   "file_extension": ".py",
   "mimetype": "text/x-python",
   "name": "python",
   "nbconvert_exporter": "python",
   "pygments_lexer": "ipython3",
   "version": "3.6.0"
  }
 },
 "nbformat": 4,
 "nbformat_minor": 2
}
