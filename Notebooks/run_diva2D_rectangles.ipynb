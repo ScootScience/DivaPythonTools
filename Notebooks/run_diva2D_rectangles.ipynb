{
 "cells": [
  {
   "cell_type": "markdown",
   "metadata": {},
   "source": [
    "This notebook explains how to run a simple 2-dimension example of [`Diva`](https://github.com/gher-ulg/DIVA).    \n",
    "The input files and the figures are created within the notebook.    \n",
    "The reading/writing of input files is done through specific classes defined in [pydiva2d](../pydiva/pydiva2d.py)."
   ]
  },
  {
   "cell_type": "code",
   "execution_count": null,
   "metadata": {
    "collapsed": true
   },
   "outputs": [],
   "source": [
    "import os\n",
    "import logging\n",
    "import shutil\n",
    "import subprocess\n",
    "import numpy as np\n",
    "from pydiva import pydiva2d"
   ]
  },
  {
   "cell_type": "markdown",
   "metadata": {},
   "source": [
    "# Setup \n",
    "\n",
    "## Logging configuration\n",
    "\n",
    "The *logging* is already configured in `pydiva2d`.<br>\n",
    "Replace 'DEBUG' by 'INFO', 'WARNING' or 'ERROR'."
   ]
  },
  {
   "cell_type": "code",
   "execution_count": null,
   "metadata": {},
   "outputs": [],
   "source": [
    "logger = logging.getLogger('pydiva2d')\n",
    "logger.setLevel(logging.DEBUG)"
   ]
  },
  {
   "cell_type": "markdown",
   "metadata": {},
   "source": [
    "## Diva configuration\n",
    "\n",
    "Set the path to the `Diva` installation you want to work with."
   ]
  },
  {
   "cell_type": "code",
   "execution_count": null,
   "metadata": {
    "collapsed": true
   },
   "outputs": [],
   "source": [
    "divadir = \"/home/ctroupin/Software/DIVA/DIVA-diva-4.7.1\""
   ]
  },
  {
   "cell_type": "markdown",
   "metadata": {},
   "source": [
    "# Prepare the input files\n",
    "## Directories\n",
    "Create variables storing the `Diva` directories."
   ]
  },
  {
   "cell_type": "code",
   "execution_count": null,
   "metadata": {},
   "outputs": [],
   "source": [
    "DivaDirs = pydiva2d.DivaDirectories(divadir)"
   ]
  },
  {
   "cell_type": "markdown",
   "metadata": {},
   "source": [
    "Create variables storing the main `Diva` input and output files."
   ]
  },
  {
   "cell_type": "code",
   "execution_count": null,
   "metadata": {},
   "outputs": [],
   "source": [
    "DivaFiles = pydiva2d.Diva2Dfiles(DivaDirs.diva2d)"
   ]
  },
  {
   "cell_type": "markdown",
   "metadata": {},
   "source": [
    "## Contour\n",
    "\n",
    "Create a sequence of points representing the contour (no crossing, no duplicate points, etc).     \n",
    "It is not necessary to close the contour (i.e., setting the last point equal to the first point).    \n",
    "Each coordinate (lon, lat) is defined as a [ndarray](https://docs.scipy.org/doc/numpy/reference/arrays.ndarray.html) or a list of lists (one per sub-contour)."
   ]
  },
  {
   "cell_type": "code",
   "execution_count": null,
   "metadata": {
    "collapsed": true
   },
   "outputs": [],
   "source": [
    "lon = np.array([[0., 2., 2., 0.], [2.5, 6., 6., 2.5]])\n",
    "lat = np.array([[0., 0., 4., 4.], [0., 0., 3., 3.]]) "
   ]
  },
  {
   "cell_type": "markdown",
   "metadata": {},
   "source": [
    "Create a **contour** object using the coordinates: "
   ]
  },
  {
   "cell_type": "code",
   "execution_count": null,
   "metadata": {},
   "outputs": [],
   "source": [
    "contour2D = pydiva2d.Diva2DContours(lon, lat)"
   ]
  },
  {
   "cell_type": "markdown",
   "metadata": {},
   "source": [
    "and write its content to the corresponding file defined in the **DivaFile** object:"
   ]
  },
  {
   "cell_type": "code",
   "execution_count": null,
   "metadata": {},
   "outputs": [],
   "source": [
    "contour2D.write_to(DivaFiles.contour)"
   ]
  },
  {
   "cell_type": "markdown",
   "metadata": {},
   "source": [
    "## Data\n",
    "\n",
    "Create arrays of coordinates (*x*, *y*), values (*z*) and optionnaly weights (*w*) representing the data points.     \n",
    "If the weights are not specified, it is assumed that all the data points have an identical weight (equal to 1)."
   ]
  },
  {
   "cell_type": "code",
   "execution_count": null,
   "metadata": {
    "collapsed": true
   },
   "outputs": [],
   "source": [
    "x = np.array((1.2, 1.75, 3., 5.5))  \n",
    "y = np.array((2.1, 3.5, 2., 0.2))\n",
    "z = np.array((1., -2., 4, -1))\n",
    "w = np.array((1., 1., 0.5, 0.5))"
   ]
  },
  {
   "cell_type": "markdown",
   "metadata": {},
   "source": [
    "Similarly to the contour, we create a **data** object:"
   ]
  },
  {
   "cell_type": "code",
   "execution_count": null,
   "metadata": {},
   "outputs": [],
   "source": [
    "data2D = pydiva2d.Diva2DData(x, y, z, w)"
   ]
  },
  {
   "cell_type": "markdown",
   "metadata": {},
   "source": [
    "and we write the values to the specified file:"
   ]
  },
  {
   "cell_type": "code",
   "execution_count": null,
   "metadata": {},
   "outputs": [],
   "source": [
    "data2D.write_to(DivaFiles.data)"
   ]
  },
  {
   "cell_type": "markdown",
   "metadata": {},
   "source": [
    "## Parameters\n",
    "\n",
    "We need to set the parameters defining the domain and the analysis parameters.    \n",
    "Check the [`Diva` documentation](http://github.com/gher-ulg/) to have a complete description of each parameter.\n",
    "\n",
    "First we set the output grid (limits and spatial resolution)."
   ]
  },
  {
   "cell_type": "code",
   "execution_count": null,
   "metadata": {
    "collapsed": true
   },
   "outputs": [],
   "source": [
    "xmin, ymin, nx, ny, dx, dy = 0.0, 0.0, 61, 81, 0.1, 0.05"
   ]
  },
  {
   "cell_type": "markdown",
   "metadata": {},
   "source": [
    "Then the parameters specific to the analysis:"
   ]
  },
  {
   "cell_type": "code",
   "execution_count": null,
   "metadata": {
    "collapsed": true
   },
   "outputs": [],
   "source": [
    "CorrelationLength = 1.5\n",
    "SignalToNoiseRatio = 0.5\n",
    "VarianceBackgroundField = 1.0\n",
    "ExclusionValue = -999.\n",
    "iCoordChange = 0\n",
    "iSpec = 11\n",
    "iReg = 0"
   ]
  },
  {
   "cell_type": "markdown",
   "metadata": {},
   "source": [
    "We create a **parameter** object that stores all the parameter values:"
   ]
  },
  {
   "cell_type": "code",
   "execution_count": null,
   "metadata": {},
   "outputs": [],
   "source": [
    "parameters2D = pydiva2d.Diva2DParameters(CorrelationLength, iCoordChange, iSpec, iReg, xmin, ymin, dx, dy, nx, ny,\n",
    "                                ExclusionValue, SignalToNoiseRatio, VarianceBackgroundField)"
   ]
  },
  {
   "cell_type": "markdown",
   "metadata": {},
   "source": [
    "and we write them into a file:"
   ]
  },
  {
   "cell_type": "code",
   "execution_count": null,
   "metadata": {},
   "outputs": [],
   "source": [
    "parameters2D.write_to(DivaFiles.parameter)"
   ]
  },
  {
   "cell_type": "markdown",
   "metadata": {},
   "source": [
    "## List of extra points\n",
    "\n",
    "In the optional input file *valatxy.coord*, one can specify additional locations where the interpolation has to be performed.<br>\n",
    "Here we ask for the analysis at the location of the first two data points, plus at an additional location."
   ]
  },
  {
   "cell_type": "code",
   "execution_count": null,
   "metadata": {
    "collapsed": true
   },
   "outputs": [],
   "source": [
    "xcoord = np.array((1.2, 1.75, 5.9))  \n",
    "ycoord = np.array((2.1, 3.5, 3.9))"
   ]
  },
  {
   "cell_type": "markdown",
   "metadata": {},
   "source": [
    "We create the object `valatxy` and write the coordinates to a file:"
   ]
  },
  {
   "cell_type": "code",
   "execution_count": null,
   "metadata": {},
   "outputs": [],
   "source": [
    "valatxy = pydiva2d.Diva2DValatxy(xcoord, ycoord)\n",
    "valatxy.write_to(DivaFiles.valatxy)"
   ]
  },
  {
   "cell_type": "markdown",
   "metadata": {},
   "source": [
    "# Run Diva\n",
    "Now that the input files have been created we can perform a Diva analysis.\n",
    "## Mesh generation\n",
    "We use the `make` method of the class `Diva2DMesh`. If we don't specify input files, the method takes those located in the *./input* directory by default."
   ]
  },
  {
   "cell_type": "code",
   "execution_count": null,
   "metadata": {},
   "outputs": [],
   "source": [
    "mesh2d = pydiva2d.Diva2DMesh().make(divadir)"
   ]
  },
  {
   "cell_type": "markdown",
   "metadata": {},
   "source": [
    "## Run the diva calculation"
   ]
  },
  {
   "cell_type": "code",
   "execution_count": null,
   "metadata": {},
   "outputs": [],
   "source": [
    "analysis2d = pydiva2d.Diva2DResults().make(divadir)"
   ]
  },
  {
   "cell_type": "markdown",
   "metadata": {},
   "source": [
    "# Time for some plots"
   ]
  },
  {
   "cell_type": "markdown",
   "metadata": {},
   "source": [
    "We import a few more modules to plot the input files content and the results.<br>\n",
    "The last line asks for the plot to be done within the notebook, not as external window."
   ]
  },
  {
   "cell_type": "code",
   "execution_count": null,
   "metadata": {
    "collapsed": true
   },
   "outputs": [],
   "source": [
    "import matplotlib.pyplot as plt\n",
    "from matplotlib import rcParams\n",
    "rcParams.update({'font.size': 14, 'figure.dpi': 300})"
   ]
  },
  {
   "cell_type": "markdown",
   "metadata": {},
   "source": [
    "## Input files\n",
    "\n",
    "Let's represent the observations, the grid and the contours.<br>\n",
    "By default, each contour is represented in a different color."
   ]
  },
  {
   "cell_type": "code",
   "execution_count": null,
   "metadata": {},
   "outputs": [],
   "source": [
    "fig = plt.figure()\n",
    "contour2D.add_to_plot(linewidth=2)\n",
    "data2D.add_to_plot(s=10)\n",
    "parameters2D.plot_outputgrid()\n",
    "plt.show()\n",
    "plt.close()"
   ]
  },
  {
   "cell_type": "markdown",
   "metadata": {},
   "source": [
    "## Results \n",
    "\n",
    "The results are available in the `analysis2d` object.\n",
    "\n",
    "### Analysis\n",
    "\n",
    "The field is then added to the plot. In addition we can include the locations of the observations.    \n",
    "Note that, due to their lower weights, the 2 data points in the right-side domain seems to influence less the analysis."
   ]
  },
  {
   "cell_type": "code",
   "execution_count": null,
   "metadata": {},
   "outputs": [],
   "source": [
    "fig = plt.figure()\n",
    "field2plot = analysis2d.add_to_plot(field='analysis')\n",
    "data2D.add_to_plot(s=10)\n",
    "plt.colorbar(field2plot)\n",
    "plt.title('Analysed field and observations')\n",
    "plt.show()\n",
    "plt.close()"
   ]
  },
  {
   "cell_type": "markdown",
   "metadata": {},
   "source": [
    "### Error field\n",
    "\n",
    "The error field is represented using a similar command.<br>\n",
    "Also note the larger error values in the right-hand side, due to the lower weights of the data points in that part of the domain."
   ]
  },
  {
   "cell_type": "code",
   "execution_count": null,
   "metadata": {},
   "outputs": [],
   "source": [
    "fig = plt.figure()\n",
    "ax = plt.subplot(111)\n",
    "errorfield = analysis2d.add_to_plot(field='error', cmap=plt.cm.hot_r)\n",
    "data2D.add_positions_to_plot(s=3, color='k')\n",
    "plt.colorbar(errorfield)\n",
    "plt.title('Relative error field and data locations')\n",
    "plt.show()\n",
    "plt.close()"
   ]
  },
  {
   "cell_type": "markdown",
   "metadata": {},
   "source": [
    "## Finite-element mesh\n",
    "\n",
    "It is also interesting to display the finite-element mesh that covers our domain of interest.    \n",
    "\n",
    "The plot is prepared with the `add_to_plot` method:"
   ]
  },
  {
   "cell_type": "code",
   "execution_count": null,
   "metadata": {},
   "outputs": [],
   "source": [
    "fig = plt.figure()\n",
    "ax = fig.add_subplot(111)\n",
    "mesh2d.add_to_plot(lw=0.1)\n",
    "contour2D.add_to_plot()\n",
    "plt.title('Finite-element mesh and contours')\n",
    "plt.show()\n",
    "plt.close()"
   ]
  }
 ],
 "metadata": {
  "kernelspec": {
   "display_name": "Diva-python3.6",
   "language": "python",
   "name": "diva-python3.6"
  },
  "language_info": {
   "codemirror_mode": {
    "name": "ipython",
    "version": 3
   },
   "file_extension": ".py",
   "mimetype": "text/x-python",
   "name": "python",
   "nbconvert_exporter": "python",
   "pygments_lexer": "ipython3",
   "version": "3.6.0"
  }
 },
 "nbformat": 4,
 "nbformat_minor": 2
}
