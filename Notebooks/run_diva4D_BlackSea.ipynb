{
 "cells": [
  {
   "cell_type": "markdown",
   "metadata": {},
   "source": [
    "In this notebook we show how to prepare all the input and parameter files necessary to run Diva4D.<br>\n",
    "The code rely on the classes defined for 2D (module `pydiva2d`) and 4D (module `pydiva4d`). "
   ]
  },
  {
   "cell_type": "code",
   "execution_count": 2,
   "metadata": {},
   "outputs": [],
   "source": [
    "import os\n",
    "import sys\n",
    "import logging\n",
    "import shutil\n",
    "import subprocess\n",
    "import datetime\n",
    "import pydiva4d"
   ]
  },
  {
   "cell_type": "markdown",
   "metadata": {},
   "source": [
    "# User inputs and configuration"
   ]
  },
  {
   "cell_type": "markdown",
   "metadata": {},
   "source": [
    "Configure logging"
   ]
  },
  {
   "cell_type": "code",
   "execution_count": 49,
   "metadata": {},
   "outputs": [],
   "source": [
    "pydiva4d.logger.handlers[0].setLevel(logging.DEBUG)"
   ]
  },
  {
   "cell_type": "markdown",
   "metadata": {},
   "source": [
    "Indicate the path to the Diva installation you want to work with (ending with `diva-x.y.z`)."
   ]
  },
  {
   "cell_type": "code",
   "execution_count": 5,
   "metadata": {
    "collapsed": true
   },
   "outputs": [],
   "source": [
    "divabasedir = \"/home/ctroupin/Software/DIVA/DIVA-diva-4.7.1\""
   ]
  },
  {
   "cell_type": "markdown",
   "metadata": {},
   "source": [
    "## Create the sub-directories and files"
   ]
  },
  {
   "cell_type": "code",
   "execution_count": 42,
   "metadata": {},
   "outputs": [
    {
     "name": "stderr",
     "output_type": "stream",
     "text": [
      "2017-04-21 16:17:31,669 - pydiva4d - INFO - Diva 4D input directory: /home/ctroupin/Software/DIVA/DIVA-diva-4.7.1/JRA4/Climatology/input\n",
      "2017-04-21 16:17:31,670 - pydiva4d - INFO - Diva 4D output directory: /home/ctroupin/Software/DIVA/DIVA-diva-4.7.1/JRA4/Climatology/output/\n",
      "2017-04-21 16:17:31,671 - pydiva4d - INFO - Diva 4D output 3D directory: /home/ctroupin/Software/DIVA/DIVA-diva-4.7.1/JRA4/Climatology/output/3Danalysis\n",
      "2017-04-21 16:17:31,673 - pydiva4d - INFO - Diva 4D output fields directory: /home/ctroupin/Software/DIVA/DIVA-diva-4.7.1/JRA4/Climatology/output/3Danalysis/Fields\n",
      "2017-04-21 16:17:31,675 - pydiva4d - INFO - Diva 4D mesh directory: /home/ctroupin/Software/DIVA/DIVA-diva-4.7.1/JRA4/Climatology/newinput/divamesh/\n",
      "2017-04-21 16:17:31,677 - pydiva4d - INFO - Diva 4D parameter directory: /home/ctroupin/Software/DIVA/DIVA-diva-4.7.1/JRA4/Climatology/newinput/divaparam/\n"
     ]
    }
   ],
   "source": [
    "divadirs = pydiva4d.Diva4DDirectories(divabasedir)"
   ]
  },
  {
   "cell_type": "code",
   "execution_count": 7,
   "metadata": {},
   "outputs": [],
   "source": [
    "diva2Dfiles = pydiva4d.Diva2Dfiles(divadirs.diva2d)"
   ]
  },
  {
   "cell_type": "code",
   "execution_count": 8,
   "metadata": {},
   "outputs": [
    {
     "name": "stderr",
     "output_type": "stream",
     "text": [
      "2017-04-21 11:37:20,945 - pydiva4d - INFO - Creating Diva 4D file names and paths\n",
      "2017-04-21 11:37:20,949 - pydiva4d - INFO - datasource file:   /home/ctroupin/Software/DIVA/DIVA-diva-4.7.1/JRA4/Climatology/datasource\n",
      "2017-04-21 11:37:20,951 - pydiva4d - INFO - constandrefe file: /home/ctroupin/Software/DIVA/DIVA-diva-4.7.1/JRA4/Climatology/constandrefe\n",
      "2017-04-21 11:37:20,953 - pydiva4d - INFO - driver file:       /home/ctroupin/Software/DIVA/DIVA-diva-4.7.1/JRA4/Climatology/driver\n",
      "2017-04-21 11:37:20,954 - pydiva4d - INFO - monthlist file:    /home/ctroupin/Software/DIVA/DIVA-diva-4.7.1/JRA4/Climatology/monthlist\n",
      "2017-04-21 11:37:20,955 - pydiva4d - INFO - qflist file:       /home/ctroupin/Software/DIVA/DIVA-diva-4.7.1/JRA4/Climatology/qflist\n",
      "2017-04-21 11:37:20,956 - pydiva4d - INFO - varlist file:      /home/ctroupin/Software/DIVA/DIVA-diva-4.7.1/JRA4/Climatology/varlist\n",
      "2017-04-21 11:37:20,958 - pydiva4d - INFO - yearlist file:     /home/ctroupin/Software/DIVA/DIVA-diva-4.7.1/JRA4/Climatology/yearlist\n",
      "2017-04-21 11:37:20,959 - pydiva4d - INFO - contourdepth file: /home/ctroupin/Software/DIVA/DIVA-diva-4.7.1/JRA4/Climatology/input/contour.depth\n",
      "2017-04-21 11:37:20,959 - pydiva4d - INFO - ncdfinfo file:     /home/ctroupin/Software/DIVA/DIVA-diva-4.7.1/JRA4/Climatology/ncdfinfo\n",
      "2017-04-21 11:37:20,960 - pydiva4d - INFO - param.par file:    /home/ctroupin/Software/DIVA/DIVA-diva-4.7.1/JRA4/Climatology/input/param.par\n"
     ]
    }
   ],
   "source": [
    "diva4Dfiles = pydiva4d.Diva4Dfiles(divadirs.diva4d)"
   ]
  },
  {
   "cell_type": "markdown",
   "metadata": {},
   "source": [
    "## List of user parameters"
   ]
  },
  {
   "cell_type": "markdown",
   "metadata": {},
   "source": [
    "Set the different parameters necessary for a 4D analysis.<br>\n",
    "For clarity, they are separated by input files."
   ]
  },
  {
   "cell_type": "markdown",
   "metadata": {},
   "source": [
    "### List of ODV spreadsheet files"
   ]
  },
  {
   "cell_type": "markdown",
   "metadata": {},
   "source": [
    "An example data file is distributed with the Diva code (*Example4D* directory): "
   ]
  },
  {
   "cell_type": "code",
   "execution_count": 9,
   "metadata": {},
   "outputs": [
    {
     "name": "stderr",
     "output_type": "stream",
     "text": [
      "2017-04-21 11:37:53,541 - pydiva4d - INFO - Creating Diva 4D Datasource object\n",
      "2017-04-21 11:37:53,550 - pydiva4d - WARNING - Argument converted from string to list\n"
     ]
    }
   ],
   "source": [
    "datasource = pydiva4d.Datasource(os.path.join(divadirs.divaexample, \"blacksea_data_CTD.txt\"))"
   ]
  },
  {
   "cell_type": "markdown",
   "metadata": {},
   "source": [
    "### Parameters for the advection constraint and the reference field"
   ]
  },
  {
   "cell_type": "code",
   "execution_count": 10,
   "metadata": {
    "collapsed": true
   },
   "outputs": [],
   "source": [
    "advection_flag = 0               # indicates if advection is activated\n",
    "ref_flag = 0                     # indicates if there is a reference field\n",
    "var_year_code = '00000000'       # variable year code\n",
    "var_month_code = '0000'          # variable month code"
   ]
  },
  {
   "cell_type": "code",
   "execution_count": 11,
   "metadata": {},
   "outputs": [
    {
     "name": "stderr",
     "output_type": "stream",
     "text": [
      "2017-04-21 11:37:58,557 - pydiva4d - INFO - Creating Diva 4D Constandrefe object\n"
     ]
    }
   ],
   "source": [
    "constandrefe = pydiva4d.Constandrefe(advection_flag, ref_flag, var_year_code, var_month_code)"
   ]
  },
  {
   "cell_type": "markdown",
   "metadata": {
    "collapsed": true
   },
   "source": [
    "### Parameters for the 4D analysis"
   ]
  },
  {
   "cell_type": "code",
   "execution_count": 12,
   "metadata": {
    "collapsed": true
   },
   "outputs": [],
   "source": [
    "extraction_flag = 1              # Data extraction: 1 do it, 0 do nothing, -1 press coord, -10 pressure+Saunders\n",
    "coast_flag = 1                   # Boundary lines and coastlines generation: 0 nothing, 1: contours, 2: UV, 3: 1+2\n",
    "clean_flag = 0                   # Cleaning data on mesh: 1, 2: RL, 3: both, 4: 1 + outliers elimination, 5: =4+2\n",
    "min_datanum = 0                  # Minimal number of data in a layer. If less, uses data from any month.\n",
    "param_flag = -30                 # Parameters estimation and vertical filtering\n",
    "min_l, max_l = 1.4, 10           # Minimal/maximal correlation length during optimization\n",
    "min_snr, max_snr = 0.1, 5.0      # Minimal/maximal signal-to-noise ratio during optimization\n",
    "analysisref_flag = 1             # Creation of reference field: 2 do reference, 1 do analysis and 0 do nothing\n",
    "lower_level, upper_level = 1, 4  # Depth lower/upper level numbers\n",
    "netcdf4d_flag = 1                # 4D netcdf files: 0 (no generation) or 1\n",
    "gnuplot_flag = 0                 # Gnuplots generation: 0 (no generation) or 1\n",
    "detrend_groupnum = 0             # Data detrending: number of groups, 0 if no detrending."
   ]
  },
  {
   "cell_type": "code",
   "execution_count": 13,
   "metadata": {},
   "outputs": [
    {
     "name": "stderr",
     "output_type": "stream",
     "text": [
      "2017-04-21 11:38:00,664 - pydiva4d - INFO - Creating Diva 4D Driver object\n"
     ]
    }
   ],
   "source": [
    "driver = pydiva4d.Driver(extraction_flag, coast_flag, clean_flag, min_datanum, param_flag, min_l,\\\n",
    "                               max_l, min_snr, max_snr, analysisref_flag, lower_level,\\\n",
    "                               upper_level, netcdf4d_flag, gnuplot_flag, detrend_groupnum)"
   ]
  },
  {
   "cell_type": "markdown",
   "metadata": {
    "collapsed": true
   },
   "source": [
    "### Parameters for the netCDF file"
   ]
  },
  {
   "cell_type": "code",
   "execution_count": 14,
   "metadata": {
    "collapsed": true
   },
   "outputs": [],
   "source": [
    "# Title string for 3D NetCDF file\n",
    "ncdf_title = '4D Test on the Black Sea using Jupyter notebook'\n",
    "# Reference time for data (ie: days since since 1900-01-01), if not climatological data\n",
    "ncdf_reftime = 'months since since xxxx-01-01'\n",
    "# Time value (that reprsents the data set), if not climatological data\n",
    "ncdf_timeval = 1200\n",
    "# Cell_methode string\n",
    "ncdf_cellmethod = 'time: mean (this month data from all years)'\n",
    "# Institution name: where the dataset was produced.\n",
    "ncdf_institution = 'University of Liege, GeoHydrodynamics and Environment Research'\n",
    "# Production group and e-mail\n",
    "ncdf_groupemail = 'Diva group. E-mails : a.barth@ulg.ac.be ; swatelet@ulg.ac.be ; ctroupin@ulg.ac.be'\n",
    "# Source (observation, radiosonde, database, model-generated data,...)\n",
    "ncdf_source = 'data_from various sources for diva software testing work'\n",
    "ncdf_comment = 'No comment'\n",
    "ncdf_authoremail = 'Name@institution'\n",
    "ncdf_acknowlegment = 'No acknowledgement'"
   ]
  },
  {
   "cell_type": "code",
   "execution_count": 15,
   "metadata": {},
   "outputs": [
    {
     "name": "stderr",
     "output_type": "stream",
     "text": [
      "2017-04-21 11:38:03,409 - pydiva4d - INFO - Creating Diva 4D Ncdfinfo object\n"
     ]
    }
   ],
   "source": [
    "netcdfinfo = pydiva4d.Ncdfinfo(ncdf_title, ncdf_reftime, ncdf_timeval, ncdf_cellmethod,\\\n",
    "                                     ncdf_institution, ncdf_groupemail, ncdf_source,\\\n",
    "                                     ncdf_comment, ncdf_authoremail, ncdf_acknowlegment)"
   ]
  },
  {
   "cell_type": "markdown",
   "metadata": {},
   "source": [
    "### Parameters for the output grid"
   ]
  },
  {
   "cell_type": "code",
   "execution_count": 16,
   "metadata": {
    "collapsed": true
   },
   "outputs": [],
   "source": [
    "xmin, ymin = 27.0, 40.0        # longitute and latitude of the lower-left corner of the domain\n",
    "nx, ny = 151, 76               # number of cells in the zonal and meridional directions\n",
    "dx, dy = 0.1, 0.1              # spatial steps in the zonal and meridional directions"
   ]
  },
  {
   "cell_type": "markdown",
   "metadata": {},
   "source": [
    "### Parameters for the analysis"
   ]
  },
  {
   "cell_type": "code",
   "execution_count": 17,
   "metadata": {},
   "outputs": [],
   "source": [
    "CorrelationLength = 1.5\n",
    "SignalToNoiseRatio = 0.5\n",
    "VarianceBackgroundField = 1.0\n",
    "ExclusionValue = -99.\n",
    "iCoordChange = 2\n",
    "iSpec = 11\n",
    "iReg = 2"
   ]
  },
  {
   "cell_type": "code",
   "execution_count": 18,
   "metadata": {},
   "outputs": [],
   "source": [
    "parameters2D = pydiva4d.Diva2DParameters(CorrelationLength, iCoordChange, iSpec, iReg, xmin, ymin, dx, dy, nx, ny,\n",
    "                                ExclusionValue, SignalToNoiseRatio, VarianceBackgroundField)"
   ]
  },
  {
   "cell_type": "markdown",
   "metadata": {},
   "source": [
    "## Others: monthlist, QC flags, variables, years, contour levels"
   ]
  },
  {
   "cell_type": "code",
   "execution_count": 19,
   "metadata": {},
   "outputs": [
    {
     "name": "stderr",
     "output_type": "stream",
     "text": [
      "2017-04-21 11:38:08,777 - pydiva4d - INFO - Creating Diva 4D Monthlist object\n",
      "2017-04-21 11:38:08,779 - pydiva4d - INFO - Creating Diva 4D Qflist object\n",
      "2017-04-21 11:38:08,780 - pydiva4d - INFO - Creating Diva 4D Varlist object\n",
      "2017-04-21 11:38:08,780 - pydiva4d - INFO - Creating Diva 4D Yearlist object\n",
      "2017-04-21 11:38:08,781 - pydiva4d - INFO - Creating Diva 4D Contourdepth object\n",
      "2017-04-21 11:38:08,782 - pydiva4d - DEBUG - Ordering list of depths in decreasing order\n"
     ]
    }
   ],
   "source": [
    "months = pydiva4d.Monthlist(['0101', '0202', '0303'])       # list of strings representing the periods (months)\n",
    "qflags = pydiva4d.Qflist([0, 1])                            # list of integers representing the accepted flags\n",
    "variables = pydiva4d.Varlist(['Temperature', 'Salinity'])   # list of strings representing the variables to extract\n",
    "years = pydiva4d.Yearlist(['19002009'])                     # list of strings representing the perior (years)\n",
    "contours = pydiva4d.Contourdepth([30., 20., 10., 0.])       # list of floats representing the vertical levels"
   ]
  },
  {
   "cell_type": "markdown",
   "metadata": {},
   "source": [
    "# Create the new input files"
   ]
  },
  {
   "cell_type": "markdown",
   "metadata": {},
   "source": [
    "Now we have set all the parameters, we can write the information into the corresponding `Diva` files.<br>\n",
    "All the objects have a *write_to* method that is used to write the information to a file."
   ]
  },
  {
   "cell_type": "markdown",
   "metadata": {},
   "source": [
    "## Write the different input files"
   ]
  },
  {
   "cell_type": "code",
   "execution_count": 20,
   "metadata": {},
   "outputs": [
    {
     "name": "stderr",
     "output_type": "stream",
     "text": [
      "2017-04-21 11:38:11,170 - pydiva4d - INFO - Written into file /home/ctroupin/Software/DIVA/DIVA-diva-4.7.1/JRA4/Climatology/datasource\n"
     ]
    }
   ],
   "source": [
    "datasource.write_to(diva4Dfiles.datasource)"
   ]
  },
  {
   "cell_type": "code",
   "execution_count": 21,
   "metadata": {},
   "outputs": [
    {
     "name": "stderr",
     "output_type": "stream",
     "text": [
      "2017-04-21 11:38:12,781 - pydiva4d - INFO - Written into file /home/ctroupin/Software/DIVA/DIVA-diva-4.7.1/JRA4/Climatology/constandrefe\n"
     ]
    }
   ],
   "source": [
    "constandrefe.write_to(diva4Dfiles.constandrefe)"
   ]
  },
  {
   "cell_type": "code",
   "execution_count": 22,
   "metadata": {},
   "outputs": [
    {
     "name": "stderr",
     "output_type": "stream",
     "text": [
      "2017-04-21 11:38:13,290 - pydiva4d - INFO - Written into file /home/ctroupin/Software/DIVA/DIVA-diva-4.7.1/JRA4/Climatology/driver\n"
     ]
    }
   ],
   "source": [
    "driver.write_to(diva4Dfiles.driver)"
   ]
  },
  {
   "cell_type": "code",
   "execution_count": 23,
   "metadata": {},
   "outputs": [
    {
     "name": "stderr",
     "output_type": "stream",
     "text": [
      "2017-04-21 11:38:13,644 - pydiva4d - INFO - Written in file /home/ctroupin/Software/DIVA/DIVA-diva-4.7.1/JRA4/Climatology/monthlist\n"
     ]
    }
   ],
   "source": [
    "months.write_to(diva4Dfiles.monthlist)"
   ]
  },
  {
   "cell_type": "code",
   "execution_count": 24,
   "metadata": {},
   "outputs": [
    {
     "name": "stderr",
     "output_type": "stream",
     "text": [
      "2017-04-21 11:38:14,209 - pydiva4d - INFO - Written in file /home/ctroupin/Software/DIVA/DIVA-diva-4.7.1/JRA4/Climatology/qflist\n"
     ]
    }
   ],
   "source": [
    "qflags.write_to(diva4Dfiles.qflist)"
   ]
  },
  {
   "cell_type": "code",
   "execution_count": 25,
   "metadata": {},
   "outputs": [
    {
     "name": "stderr",
     "output_type": "stream",
     "text": [
      "2017-04-21 11:38:16,174 - pydiva4d - INFO - Written in file /home/ctroupin/Software/DIVA/DIVA-diva-4.7.1/JRA4/Climatology/varlist\n"
     ]
    }
   ],
   "source": [
    "variables.write_to(diva4Dfiles.varlist)"
   ]
  },
  {
   "cell_type": "code",
   "execution_count": 26,
   "metadata": {},
   "outputs": [
    {
     "name": "stderr",
     "output_type": "stream",
     "text": [
      "2017-04-21 11:38:16,558 - pydiva4d - INFO - Written into file /home/ctroupin/Software/DIVA/DIVA-diva-4.7.1/JRA4/Climatology/yearlist\n"
     ]
    }
   ],
   "source": [
    "years.write_to(diva4Dfiles.yearlist)"
   ]
  },
  {
   "cell_type": "code",
   "execution_count": 27,
   "metadata": {},
   "outputs": [
    {
     "name": "stderr",
     "output_type": "stream",
     "text": [
      "2017-04-21 11:38:16,789 - pydiva4d - INFO - Written into file /home/ctroupin/Software/DIVA/DIVA-diva-4.7.1/JRA4/Climatology/ncdfinfo\n"
     ]
    }
   ],
   "source": [
    "netcdfinfo.write_to(diva4Dfiles.ncdfinfo)"
   ]
  },
  {
   "cell_type": "code",
   "execution_count": 28,
   "metadata": {},
   "outputs": [],
   "source": [
    "parameters2D.write_to(diva4Dfiles.param)"
   ]
  },
  {
   "cell_type": "markdown",
   "metadata": {
    "collapsed": true
   },
   "source": [
    "# Run divadoall (4D analysis)"
   ]
  },
  {
   "cell_type": "markdown",
   "metadata": {},
   "source": [
    "We call the main script `divadoall` to perform the 4D analysis.<br>\n",
    "The time for the analysis depends on the number of variables, levels, periods, etc, so can expect it to run for a few minutes with the default values set in this example."
   ]
  },
  {
   "cell_type": "code",
   "execution_count": 29,
   "metadata": {},
   "outputs": [
    {
     "name": "stderr",
     "output_type": "stream",
     "text": [
      "2017-04-21 11:38:24,987 - pydiva4d - INFO - Starting to run 'divadoall'\n",
      "2017-04-21 11:43:12,067 - pydiva4d - INFO - Finished 'divadoall'\n"
     ]
    }
   ],
   "source": [
    "pydiva4d.logger.info(\"Starting to run 'divadoall'\")\n",
    "divadoall_script = './divadoall'\n",
    "env = os.environ.copy()\n",
    "env[\"PATH\"] = \".:\" + env[\"PATH\"]\n",
    "\n",
    "p = subprocess.Popen(divadoall_script, stdout=subprocess.PIPE, cwd=divadirs.diva4d, env=env)\n",
    "out = p.stdout.read()\n",
    "pydiva4d.logger.info(\"Finished 'divadoall'\")"
   ]
  },
  {
   "cell_type": "markdown",
   "metadata": {
    "collapsed": true
   },
   "source": [
    "Finally we write the `Diva` execution log into the same log file:"
   ]
  },
  {
   "cell_type": "code",
   "execution_count": 30,
   "metadata": {},
   "outputs": [
    {
     "name": "stderr",
     "output_type": "stream",
     "text": [
      "2017-04-21 11:43:12,071 - pydiva4d - INFO - Diva execution log:\n"
     ]
    }
   ],
   "source": [
    "pydiva4d.logger.info(\"Diva execution log:\")\n",
    "with open(pydiva4d.logfile, 'w') as f:\n",
    "    f.write(str(out).replace('\\\\n', '\\n'))"
   ]
  },
  {
   "cell_type": "code",
   "execution_count": 31,
   "metadata": {},
   "outputs": [
    {
     "name": "stderr",
     "output_type": "stream",
     "text": [
      "2017-04-21 11:43:12,088 - pydiva4d - INFO - Finished the 'divadoall' run\n"
     ]
    }
   ],
   "source": [
    "pydiva4d.logger.info(\"Finished the 'divadoall' run\")"
   ]
  },
  {
   "cell_type": "code",
   "execution_count": 32,
   "metadata": {},
   "outputs": [
    {
     "data": {
      "text/plain": [
       "'./logs/Diva_2017-04-21_11:37:10.log'"
      ]
     },
     "execution_count": 32,
     "metadata": {},
     "output_type": "execute_result"
    }
   ],
   "source": [
    "pydiva4d.logfile"
   ]
  },
  {
   "cell_type": "markdown",
   "metadata": {},
   "source": [
    "## Data visualisation"
   ]
  },
  {
   "cell_type": "markdown",
   "metadata": {},
   "source": [
    "### ncview"
   ]
  },
  {
   "cell_type": "markdown",
   "metadata": {},
   "source": [
    "If you have the [ncview](http://meteora.ucsd.edu/%7Epierce/ncview_home_page.html) tool installed, you can have a quick look to the different layers, periods and variables to ensure the `Diva` execution was fine.<br>\n",
    "The name of the output file is easily obtained from the variable names and the period."
   ]
  },
  {
   "cell_type": "code",
   "execution_count": 47,
   "metadata": {},
   "outputs": [],
   "source": [
    "Temperature4Dfile = os.path.join(divadirs.diva4doutput3d, \"Temperature.19002009.4Danl.nc\")"
   ]
  },
  {
   "cell_type": "code",
   "execution_count": 48,
   "metadata": {},
   "outputs": [],
   "source": [
    "process = subprocess.Popen(['/usr/bin/ncview', Temperature4Dfile], stdout=subprocess.PIPE)"
   ]
  },
  {
   "cell_type": "markdown",
   "metadata": {},
   "source": [
    "## matplotlib"
   ]
  },
  {
   "cell_type": "markdown",
   "metadata": {},
   "source": [
    "In the notebooks [plot_diva4D_results](plot_diva4D_results.ipynb) and [plot_diva4D_results_basemap.ipynb](plot_diva4D_results_basemap.ipynb) we show how to use [matplotlib](http://matplotlib.org/) and [Basemap](http://matplotlib.org/basemap/api/basemap_api.html) to produce figures from the 4D netCDF file."
   ]
  }
 ],
 "metadata": {
  "kernelspec": {
   "display_name": "Python 3",
   "language": "python",
   "name": "python3"
  },
  "language_info": {
   "codemirror_mode": {
    "name": "ipython",
    "version": 3
   },
   "file_extension": ".py",
   "mimetype": "text/x-python",
   "name": "python",
   "nbconvert_exporter": "python",
   "pygments_lexer": "ipython3",
   "version": "3.5.2"
  }
 },
 "nbformat": 4,
 "nbformat_minor": 2
}
