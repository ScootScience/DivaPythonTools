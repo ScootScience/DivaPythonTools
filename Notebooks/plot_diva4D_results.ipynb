{
 "cells": [
  {
   "cell_type": "markdown",
   "metadata": {
    "deletable": true,
    "editable": true
   },
   "source": [
    "This notebooks provides an example of how to create plots displaying the results of the analysis.<br>\n",
    "As a 4D analysis is made up of of several 2D interpolations (loops on time and depth), we can use the tools of the `pydiva2d` module to produce the figures for the contours, meshes and results."
   ]
  },
  {
   "cell_type": "code",
   "execution_count": 1,
   "metadata": {
    "collapsed": false,
    "deletable": true,
    "editable": true
   },
   "outputs": [],
   "source": [
    "import os\n",
    "import sys\n",
    "import logging\n",
    "import numpy as np\n",
    "import matplotlib.pyplot as plt\n",
    "from matplotlib import rcParams"
   ]
  },
  {
   "cell_type": "code",
   "execution_count": 2,
   "metadata": {
    "collapsed": true,
    "deletable": true,
    "editable": true
   },
   "outputs": [],
   "source": [
    "import sys\n",
    "sys.path.insert(0, \"../\")\n",
    "import pydiva4d"
   ]
  },
  {
   "cell_type": "code",
   "execution_count": 4,
   "metadata": {
    "collapsed": false,
    "deletable": true,
    "editable": true
   },
   "outputs": [],
   "source": [
    "pydiva4d.logger.setLevel(logging.DEBUG)"
   ]
  },
  {
   "cell_type": "markdown",
   "metadata": {
    "deletable": true,
    "editable": true
   },
   "source": [
    "### Options for the plot"
   ]
  },
  {
   "cell_type": "markdown",
   "metadata": {
    "deletable": true,
    "editable": true
   },
   "source": [
    "Define a directory for the figures"
   ]
  },
  {
   "cell_type": "code",
   "execution_count": 5,
   "metadata": {
    "collapsed": true,
    "deletable": true,
    "editable": true
   },
   "outputs": [],
   "source": [
    "figdir = './figures/BlackSea/'\n",
    "if not os.path.exists(figdir):\n",
    "    os.makedirs(figdir)"
   ]
  },
  {
   "cell_type": "markdown",
   "metadata": {
    "deletable": true,
    "editable": true
   },
   "source": [
    "Define the directory where Diva will be executed:"
   ]
  },
  {
   "cell_type": "code",
   "execution_count": 6,
   "metadata": {
    "collapsed": true,
    "deletable": true,
    "editable": true
   },
   "outputs": [],
   "source": [
    "divamaindir = '/home/ctroupin/Software/DIVA/DIVA-diva-4.7.1/'\n",
    "Diva4Ddirs = pydiva4d.Diva4DDirectories(divamaindir)"
   ]
  },
  {
   "cell_type": "markdown",
   "metadata": {
    "deletable": true,
    "editable": true
   },
   "source": [
    "Generate the file names"
   ]
  },
  {
   "cell_type": "code",
   "execution_count": 7,
   "metadata": {
    "collapsed": false,
    "deletable": true,
    "editable": true
   },
   "outputs": [],
   "source": [
    "Diva4Dfiles = pydiva4d.Diva4Dfiles(Diva4Ddirs.diva4d)"
   ]
  },
  {
   "cell_type": "markdown",
   "metadata": {
    "deletable": true,
    "editable": true
   },
   "source": [
    "## Load the depth levels"
   ]
  },
  {
   "cell_type": "code",
   "execution_count": 19,
   "metadata": {
    "collapsed": false,
    "deletable": true,
    "editable": true
   },
   "outputs": [
    {
     "data": {
      "text/plain": [
       "[30.0, 20.0, 10.0, 0.0]"
      ]
     },
     "execution_count": 19,
     "metadata": {},
     "output_type": "execute_result"
    }
   ],
   "source": [
    "contourdepth = pydiva4d.Contourdepth()\n",
    "contourdepth.read_from(Diva4Dfiles.contourdepth)\n",
    "contourdepth.depthlist"
   ]
  },
  {
   "cell_type": "markdown",
   "metadata": {
    "deletable": true,
    "editable": true
   },
   "source": [
    "## Loop on the contours"
   ]
  },
  {
   "cell_type": "code",
   "execution_count": 9,
   "metadata": {
    "collapsed": false,
    "deletable": true,
    "editable": true
   },
   "outputs": [],
   "source": [
    "for idepth, depth in enumerate(contourdepth.depthlist):\n",
    "    \n",
    "    contourfile = os.path.join(Diva4Ddirs.diva4dparam, 'coast.cont.{0}'.format(str(10001 + idepth)))\n",
    "\n",
    "    contour2D = pydiva4d.Diva2DContours()\n",
    "    contour2D.read_from(contourfile)\n",
    "\n",
    "    fig = plt.figure()\n",
    "    contour2D.add_to_plot(color='k', linewidth=.5)\n",
    "    plt.xlim(26., 42.)\n",
    "    plt.ylim(40., 48.)\n",
    "    plt.title(\"Contour at depth: {0} m\".format(depth))\n",
    "    plt.savefig(os.path.join(figdir, \"BlackSea_contour{0}\".format(idepth)))\n",
    "    plt.close()"
   ]
  },
  {
   "cell_type": "markdown",
   "metadata": {
    "deletable": true,
    "editable": true
   },
   "source": [
    "## Loop on the meshes"
   ]
  },
  {
   "cell_type": "code",
   "execution_count": 10,
   "metadata": {
    "collapsed": false,
    "deletable": true,
    "editable": true
   },
   "outputs": [],
   "source": [
    "for idepth, depth in enumerate(contourdepth.depthlist):\n",
    "    # Create the file names\n",
    "    meshtopofile = os.path.join(Diva4Ddirs.diva4dmesh, \"mesh.dat.{0}\".format(str(10000 + idepth + 1)))\n",
    "    meshfile = os.path.join(Diva4Ddirs.diva4dmesh, \"meshtopo.{0}\".format(str(10000 + idepth + 1)))\n",
    "    \n",
    "    # Mesh object\n",
    "    Mesh = pydiva4d.Diva2DMesh()\n",
    "    Mesh.read_from(meshfile, meshtopofile)\n",
    "    \n",
    "    # Make the plot\n",
    "    fig = plt.figure()\n",
    "    ax = plt.subplot(111)\n",
    "    Mesh.add_to_plot(linewidth=0.1, color='k')\n",
    "    plt.xlim(26., 42.)\n",
    "    plt.ylim(40., 48.)\n",
    "    plt.title(\"Mesh at depth: {0} m\".format(depth))\n",
    "    plt.savefig(os.path.join(figdir, \"BlackSea_mesh{0}\".format(idepth)))\n",
    "    plt.close()"
   ]
  },
  {
   "cell_type": "markdown",
   "metadata": {
    "deletable": true,
    "editable": true
   },
   "source": [
    "## Loop on the times and depth levels for the results"
   ]
  },
  {
   "cell_type": "markdown",
   "metadata": {
    "deletable": true,
    "editable": true
   },
   "source": [
    "Load year and month periods:"
   ]
  },
  {
   "cell_type": "code",
   "execution_count": 15,
   "metadata": {
    "collapsed": false,
    "deletable": true,
    "editable": true
   },
   "outputs": [
    {
     "data": {
      "text/plain": [
       "['0101', '0202', '0303', '']"
      ]
     },
     "execution_count": 15,
     "metadata": {},
     "output_type": "execute_result"
    }
   ],
   "source": [
    "Monthlist = pydiva4d.Monthlist()\n",
    "Monthlist.read_from(Diva4Dfiles.monthlist)\n",
    "Monthlist.monthlist"
   ]
  },
  {
   "cell_type": "code",
   "execution_count": 16,
   "metadata": {
    "collapsed": false,
    "deletable": true,
    "editable": true
   },
   "outputs": [
    {
     "data": {
      "text/plain": [
       "['19002009']"
      ]
     },
     "execution_count": 16,
     "metadata": {},
     "output_type": "execute_result"
    }
   ],
   "source": [
    "Yearlist = pydiva4d.Yearlist()\n",
    "Yearlist.read_from(Diva4Dfiles.yearlist)\n",
    "Yearlist.yearlist"
   ]
  },
  {
   "cell_type": "markdown",
   "metadata": {
    "deletable": true,
    "editable": true
   },
   "source": [
    "## Load the variables"
   ]
  },
  {
   "cell_type": "code",
   "execution_count": 17,
   "metadata": {
    "collapsed": false,
    "deletable": true,
    "editable": true
   },
   "outputs": [
    {
     "data": {
      "text/plain": [
       "['Temperature', 'Salinity']"
      ]
     },
     "execution_count": 17,
     "metadata": {},
     "output_type": "execute_result"
    }
   ],
   "source": [
    "Varlist = pydiva4d.Varlist()\n",
    "Varlist.read_from(Diva4Dfiles.varlist)\n",
    "Varlist.varlist"
   ]
  },
  {
   "cell_type": "markdown",
   "metadata": {
    "deletable": true,
    "editable": true
   },
   "source": [
    "# Plot the fields"
   ]
  },
  {
   "cell_type": "code",
   "execution_count": 22,
   "metadata": {
    "collapsed": false,
    "deletable": true,
    "editable": true
   },
   "outputs": [],
   "source": [
    "for variables in Varlist.varlist:\n",
    "    for yearperiods in Yearlist.yearlist:\n",
    "        for monthperiods in Monthlist.monthlist:\n",
    "            for idepth, depthlevels in enumerate(contourdepth.depthlist):\n",
    "                \n",
    "                # Create file name\n",
    "                resultfile = \"{0}.{1}.{2}.{3}.anl.nc\".format(variables, yearperiods,\n",
    "                                                             monthperiods, str(10000 + idepth + 1))\n",
    "                \n",
    "                # Create figure name\n",
    "                figname = ''.join((resultfile.replace('.', '_'), '.png'))\n",
    "                figtitle = \"{0}, Year: {1}, Months: {2}, Depth: {3} m\".format(variables, yearperiods,\n",
    "                                                                                       monthperiods, str(depthlevels))\n",
    "                \n",
    "                # Load the results\n",
    "                if os.path.exists(os.path.join(Diva4Ddirs.diva4dfields, resultfile)):\n",
    "                    Results = pydiva4d.Diva2DResults(os.path.join(Diva4Ddirs.diva4dfields, resultfile))\n",
    "                    fig = plt.figure()\n",
    "                    ax = plt.subplot(111)\n",
    "                    resultplot = Results.add_to_plot()\n",
    "                    plt.colorbar(resultplot)\n",
    "                    plt.title(figtitle)\n",
    "                    plt.savefig(os.path.join(figdir, figname))\n",
    "                    plt.close()"
   ]
  },
  {
   "cell_type": "code",
   "execution_count": null,
   "metadata": {
    "collapsed": true,
    "deletable": true,
    "editable": true
   },
   "outputs": [],
   "source": []
  }
 ],
 "metadata": {
  "kernelspec": {
   "display_name": "Python 3",
   "language": "python",
   "name": "python3"
  },
  "language_info": {
   "codemirror_mode": {
    "name": "ipython",
    "version": 3
   },
   "file_extension": ".py",
   "mimetype": "text/x-python",
   "name": "python",
   "nbconvert_exporter": "python",
   "pygments_lexer": "ipython3",
   "version": "3.6.0"
  }
 },
 "nbformat": 4,
 "nbformat_minor": 2
}
